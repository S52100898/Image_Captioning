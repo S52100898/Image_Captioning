{
  "nbformat": 4,
  "nbformat_minor": 0,
  "metadata": {
    "colab": {
      "provenance": []
    },
    "kernelspec": {
      "name": "python3",
      "display_name": "Python 3"
    },
    "language_info": {
      "name": "python"
    }
  },
  "cells": [
    {
      "cell_type": "code",
      "source": [
        "!pip install torchviz"
      ],
      "metadata": {
        "id": "_iSw0ZwOOlLg"
      },
      "execution_count": null,
      "outputs": []
    },
    {
      "cell_type": "markdown",
      "source": [
        "# Simple Neural Network"
      ],
      "metadata": {
        "id": "27KqiXupld_P"
      }
    },
    {
      "cell_type": "code",
      "source": [
        "from sklearn.datasets import load_iris"
      ],
      "metadata": {
        "id": "KzK1ElPFOU8M"
      },
      "execution_count": null,
      "outputs": []
    },
    {
      "cell_type": "code",
      "source": [
        "from sklearn.preprocessing import StandardScaler, OneHotEncoder\n",
        "from sklearn.model_selection import train_test_split\n",
        "\n",
        "scaler = StandardScaler()\n",
        "encoder = OneHotEncoder(sparse_output=False)\n",
        "\n",
        "data = load_iris()\n",
        "X = data.data\n",
        "y = data.target\n",
        "\n",
        "X_train, X_test, y_train, y_test = train_test_split(X, y, test_size=0.25, random_state=2024)\n",
        "\n",
        "scaled_X_train = scaler.fit_transform(X_train)\n",
        "scaled_X_test = scaler.transform(X_test)\n",
        "\n",
        "encoded_y_train = encoder.fit_transform(y_train.reshape(-1, 1))\n",
        "encoded_y_test = encoder.fit_transform(y_test.reshape(-1, 1))"
      ],
      "metadata": {
        "id": "zjllXbGGOZHZ"
      },
      "execution_count": null,
      "outputs": []
    },
    {
      "cell_type": "code",
      "source": [
        "print(scaled_X_train[:5])\n",
        "print(scaled_X_test[:5])"
      ],
      "metadata": {
        "colab": {
          "base_uri": "https://localhost:8080/"
        },
        "id": "6SxD8k2rPxsI",
        "outputId": "29f8175d-8813-404b-e91f-1597495f7a32"
      },
      "execution_count": null,
      "outputs": [
        {
          "output_type": "stream",
          "name": "stdout",
          "text": [
            "[[ 1.58567672 -0.13294368  1.14826223  0.52160241]\n",
            " [-0.89735367  1.81980278 -1.08785432 -1.07165586]\n",
            " [-0.06967687 -0.8652236   0.17354476 -0.27502673]\n",
            " [ 0.28504175 -1.1093169   1.03358959  0.25605936]\n",
            " [-1.13383276  0.11114963 -1.31719961 -1.46997043]]\n",
            "[[-0.06967687  2.30798939 -1.48920858 -1.33719891]\n",
            " [-1.13383276  1.33161616 -1.37453593 -1.46997043]\n",
            " [ 0.16680221 -0.37703698  0.40289005  0.38883089]\n",
            " [ 0.16680221 -0.13294368  0.57489901  0.78714546]\n",
            " [-0.89735367  1.81980278 -1.25986329 -1.33719891]]\n"
          ]
        }
      ]
    },
    {
      "cell_type": "code",
      "source": [
        "print(encoded_y_train[:5])\n",
        "print(encoded_y_test[:5])"
      ],
      "metadata": {
        "colab": {
          "base_uri": "https://localhost:8080/"
        },
        "id": "RpBsWNaSQZhJ",
        "outputId": "87b2ed16-c298-4492-b508-e2bdd132f556"
      },
      "execution_count": null,
      "outputs": [
        {
          "output_type": "stream",
          "name": "stdout",
          "text": [
            "[[0. 0. 1.]\n",
            " [1. 0. 0.]\n",
            " [0. 1. 0.]\n",
            " [0. 0. 1.]\n",
            " [1. 0. 0.]]\n",
            "[[1. 0. 0.]\n",
            " [1. 0. 0.]\n",
            " [0. 1. 0.]\n",
            " [0. 0. 1.]\n",
            " [1. 0. 0.]]\n"
          ]
        }
      ]
    },
    {
      "cell_type": "markdown",
      "source": [
        "## Convert to Tensors"
      ],
      "metadata": {
        "id": "a9S8mWHqQmA2"
      }
    },
    {
      "cell_type": "code",
      "source": [
        "import torch\n",
        "from torch import nn\n",
        "from torch.utils.data import TensorDataset, DataLoader"
      ],
      "metadata": {
        "id": "3_08xGpsQ7FT"
      },
      "execution_count": null,
      "outputs": []
    },
    {
      "cell_type": "code",
      "source": [
        "X_train = torch.tensor(scaled_X_train, dtype=torch.float32)\n",
        "y_train = torch.tensor(encoded_y_train, dtype=torch.float32)"
      ],
      "metadata": {
        "id": "f21BJiBIQoRR"
      },
      "execution_count": null,
      "outputs": []
    },
    {
      "cell_type": "code",
      "source": [
        "train_ds = TensorDataset(X_train, y_train)\n",
        "train_dl = DataLoader(train_ds, 32, shuffle=True)"
      ],
      "metadata": {
        "id": "hm5BdV_3RfCE"
      },
      "execution_count": null,
      "outputs": []
    },
    {
      "cell_type": "markdown",
      "source": [
        "## Building Model"
      ],
      "metadata": {
        "id": "KzQ3MCjbRi_Y"
      }
    },
    {
      "cell_type": "code",
      "execution_count": null,
      "metadata": {
        "id": "RariFqZWCGBD"
      },
      "outputs": [],
      "source": [
        "# Define a simple neural network class\n",
        "class SimpleNN(nn.Module):\n",
        "    def __init__(self, input_size, hidden_size, output_size):\n",
        "        super(SimpleNN, self).__init__()\n",
        "        self.fc1 = nn.Linear(input_size, hidden_size)\n",
        "        self.fc2 = nn.Linear(hidden_size, output_size)\n",
        "        self.relu = nn.ReLU()\n",
        "        self.softmax = nn.Softmax(dim=1)\n",
        "\n",
        "    def forward(self, x):\n",
        "        x = self.fc1(x)\n",
        "        x = self.relu(x)\n",
        "        x = self.fc2(x)\n",
        "        x = self.softmax(x)\n",
        "        return x"
      ]
    },
    {
      "cell_type": "code",
      "source": [
        "def train_batch(model, criterion, optimizer, train_dl, num_epochs=5):\n",
        "    loss_vals = []\n",
        "    for epoch in range(num_epochs):\n",
        "        epoch_loss = 0.0\n",
        "        for x_batch, y_batch in train_dl:\n",
        "            optimizer.zero_grad()\n",
        "            outputs = model(x_batch)\n",
        "            loss = criterion(outputs, y_batch)\n",
        "            loss.backward()\n",
        "\n",
        "            # update parameters\n",
        "            optimizer.step()\n",
        "            epoch_loss += loss.item()\n",
        "\n",
        "        epoch_loss /= len(train_dl)\n",
        "\n",
        "        # End of a batch\n",
        "        loss_vals.append(epoch_loss)\n",
        "        print(f'Epoch: {epoch+1}/{num_epochs}, Loss: {epoch_loss:.4f}')\n",
        "    return loss_vals\n",
        "\n",
        "\n",
        "def predict(model, x):\n",
        "    with torch.inference_mode():\n",
        "        predicted = model(x)\n",
        "        return predicted"
      ],
      "metadata": {
        "id": "5hDoAynoR_cK"
      },
      "execution_count": null,
      "outputs": []
    },
    {
      "cell_type": "markdown",
      "source": [
        "# Initialize model"
      ],
      "metadata": {
        "id": "4yu7ISDdSzhH"
      }
    },
    {
      "cell_type": "code",
      "source": [
        "model = SimpleNN(scaled_X_train.shape[1], 16, 3)\n",
        "criterion = nn.CrossEntropyLoss()\n",
        "optimizer = torch.optim.SGD(model.parameters(), lr=0.01)\n",
        "\n",
        "\n",
        "# Vanila gradient descent\n",
        "for epoch in range(20):\n",
        "    optimizer.zero_grad()\n",
        "    output = model(X_train)\n",
        "    loss = criterion(output, y_train)\n",
        "\n",
        "    # Differentiation\n",
        "    loss.backward()\n",
        "\n",
        "    # Update parameters\n",
        "    optimizer.step()\n",
        "    print(f\"Epoch: {epoch + 1}, Loss: {loss.item(): .4f}\")"
      ],
      "metadata": {
        "colab": {
          "base_uri": "https://localhost:8080/"
        },
        "id": "oCCNBv5nS7e1",
        "outputId": "475f9035-bfe2-44bc-d85b-5f87703f09a1"
      },
      "execution_count": null,
      "outputs": [
        {
          "output_type": "stream",
          "name": "stdout",
          "text": [
            "Epoch: 1, Loss:  1.1162\n",
            "Epoch: 2, Loss:  1.1155\n",
            "Epoch: 3, Loss:  1.1148\n",
            "Epoch: 4, Loss:  1.1141\n",
            "Epoch: 5, Loss:  1.1134\n",
            "Epoch: 6, Loss:  1.1127\n",
            "Epoch: 7, Loss:  1.1120\n",
            "Epoch: 8, Loss:  1.1113\n",
            "Epoch: 9, Loss:  1.1106\n",
            "Epoch: 10, Loss:  1.1100\n",
            "Epoch: 11, Loss:  1.1093\n",
            "Epoch: 12, Loss:  1.1086\n",
            "Epoch: 13, Loss:  1.1079\n",
            "Epoch: 14, Loss:  1.1072\n",
            "Epoch: 15, Loss:  1.1065\n",
            "Epoch: 16, Loss:  1.1058\n",
            "Epoch: 17, Loss:  1.1051\n",
            "Epoch: 18, Loss:  1.1044\n",
            "Epoch: 19, Loss:  1.1037\n",
            "Epoch: 20, Loss:  1.1030\n"
          ]
        }
      ]
    },
    {
      "cell_type": "markdown",
      "source": [
        "### Computational Graph"
      ],
      "metadata": {
        "id": "PQuw9BAsTa0w"
      }
    },
    {
      "cell_type": "code",
      "source": [
        "from torchviz import make_dot"
      ],
      "metadata": {
        "id": "c7EXwEA_Td18"
      },
      "execution_count": null,
      "outputs": []
    },
    {
      "cell_type": "code",
      "source": [
        "make_dot(output, params=dict(model.named_parameters()))"
      ],
      "metadata": {
        "id": "6ITw_PVlTjf5",
        "colab": {
          "base_uri": "https://localhost:8080/",
          "height": 665
        },
        "outputId": "7521e48c-74c2-4946-ca56-748a822e8994"
      },
      "execution_count": null,
      "outputs": [
        {
          "output_type": "execute_result",
          "data": {
            "image/svg+xml": "<?xml version=\"1.0\" encoding=\"UTF-8\" standalone=\"no\"?>\n<!DOCTYPE svg PUBLIC \"-//W3C//DTD SVG 1.1//EN\"\n \"http://www.w3.org/Graphics/SVG/1.1/DTD/svg11.dtd\">\n<!-- Generated by graphviz version 2.43.0 (0)\n -->\n<!-- Title: %3 Pages: 1 -->\n<svg width=\"340pt\" height=\"468pt\"\n viewBox=\"0.00 0.00 340.00 468.00\" xmlns=\"http://www.w3.org/2000/svg\" xmlns:xlink=\"http://www.w3.org/1999/xlink\">\n<g id=\"graph0\" class=\"graph\" transform=\"scale(1 1) rotate(0) translate(4 464)\">\n<title>%3</title>\n<polygon fill=\"white\" stroke=\"transparent\" points=\"-4,4 -4,-464 336,-464 336,4 -4,4\"/>\n<!-- 132046424224720 -->\n<g id=\"node1\" class=\"node\">\n<title>132046424224720</title>\n<polygon fill=\"#caff70\" stroke=\"black\" points=\"202,-31 131,-31 131,0 202,0 202,-31\"/>\n<text text-anchor=\"middle\" x=\"166.5\" y=\"-7\" font-family=\"monospace\" font-size=\"10.00\"> (112, 3)</text>\n</g>\n<!-- 132046424568256 -->\n<g id=\"node2\" class=\"node\">\n<title>132046424568256</title>\n<polygon fill=\"lightgrey\" stroke=\"black\" points=\"223,-86 110,-86 110,-67 223,-67 223,-86\"/>\n<text text-anchor=\"middle\" x=\"166.5\" y=\"-74\" font-family=\"monospace\" font-size=\"10.00\">SoftmaxBackward0</text>\n</g>\n<!-- 132046424568256&#45;&gt;132046424224720 -->\n<g id=\"edge14\" class=\"edge\">\n<title>132046424568256&#45;&gt;132046424224720</title>\n<path fill=\"none\" stroke=\"black\" d=\"M166.5,-66.79C166.5,-60.07 166.5,-50.4 166.5,-41.34\"/>\n<polygon fill=\"black\" stroke=\"black\" points=\"170,-41.19 166.5,-31.19 163,-41.19 170,-41.19\"/>\n</g>\n<!-- 132046424567344 -->\n<g id=\"node3\" class=\"node\">\n<title>132046424567344</title>\n<polygon fill=\"lightgrey\" stroke=\"black\" points=\"217,-141 116,-141 116,-122 217,-122 217,-141\"/>\n<text text-anchor=\"middle\" x=\"166.5\" y=\"-129\" font-family=\"monospace\" font-size=\"10.00\">AddmmBackward0</text>\n</g>\n<!-- 132046424567344&#45;&gt;132046424568256 -->\n<g id=\"edge1\" class=\"edge\">\n<title>132046424567344&#45;&gt;132046424568256</title>\n<path fill=\"none\" stroke=\"black\" d=\"M166.5,-121.75C166.5,-114.8 166.5,-104.85 166.5,-96.13\"/>\n<polygon fill=\"black\" stroke=\"black\" points=\"170,-96.09 166.5,-86.09 163,-96.09 170,-96.09\"/>\n</g>\n<!-- 132046424568304 -->\n<g id=\"node4\" class=\"node\">\n<title>132046424568304</title>\n<polygon fill=\"lightgrey\" stroke=\"black\" points=\"101,-196 0,-196 0,-177 101,-177 101,-196\"/>\n<text text-anchor=\"middle\" x=\"50.5\" y=\"-184\" font-family=\"monospace\" font-size=\"10.00\">AccumulateGrad</text>\n</g>\n<!-- 132046424568304&#45;&gt;132046424567344 -->\n<g id=\"edge2\" class=\"edge\">\n<title>132046424568304&#45;&gt;132046424567344</title>\n<path fill=\"none\" stroke=\"black\" d=\"M69.14,-176.98C87.8,-168.46 116.75,-155.23 138.24,-145.41\"/>\n<polygon fill=\"black\" stroke=\"black\" points=\"139.88,-148.51 147.52,-141.17 136.97,-142.14 139.88,-148.51\"/>\n</g>\n<!-- 132046827509920 -->\n<g id=\"node5\" class=\"node\">\n<title>132046827509920</title>\n<polygon fill=\"lightblue\" stroke=\"black\" points=\"83,-262 18,-262 18,-232 83,-232 83,-262\"/>\n<text text-anchor=\"middle\" x=\"50.5\" y=\"-250\" font-family=\"monospace\" font-size=\"10.00\">fc2.bias</text>\n<text text-anchor=\"middle\" x=\"50.5\" y=\"-239\" font-family=\"monospace\" font-size=\"10.00\"> (3)</text>\n</g>\n<!-- 132046827509920&#45;&gt;132046424568304 -->\n<g id=\"edge3\" class=\"edge\">\n<title>132046827509920&#45;&gt;132046424568304</title>\n<path fill=\"none\" stroke=\"black\" d=\"M50.5,-231.84C50.5,-224.21 50.5,-214.7 50.5,-206.45\"/>\n<polygon fill=\"black\" stroke=\"black\" points=\"54,-206.27 50.5,-196.27 47,-206.27 54,-206.27\"/>\n</g>\n<!-- 132046424567824 -->\n<g id=\"node6\" class=\"node\">\n<title>132046424567824</title>\n<polygon fill=\"lightgrey\" stroke=\"black\" points=\"214,-196 119,-196 119,-177 214,-177 214,-196\"/>\n<text text-anchor=\"middle\" x=\"166.5\" y=\"-184\" font-family=\"monospace\" font-size=\"10.00\">ReluBackward0</text>\n</g>\n<!-- 132046424567824&#45;&gt;132046424567344 -->\n<g id=\"edge4\" class=\"edge\">\n<title>132046424567824&#45;&gt;132046424567344</title>\n<path fill=\"none\" stroke=\"black\" d=\"M166.5,-176.75C166.5,-169.8 166.5,-159.85 166.5,-151.13\"/>\n<polygon fill=\"black\" stroke=\"black\" points=\"170,-151.09 166.5,-141.09 163,-151.09 170,-151.09\"/>\n</g>\n<!-- 132046424568352 -->\n<g id=\"node7\" class=\"node\">\n<title>132046424568352</title>\n<polygon fill=\"lightgrey\" stroke=\"black\" points=\"213,-256.5 112,-256.5 112,-237.5 213,-237.5 213,-256.5\"/>\n<text text-anchor=\"middle\" x=\"162.5\" y=\"-244.5\" font-family=\"monospace\" font-size=\"10.00\">AddmmBackward0</text>\n</g>\n<!-- 132046424568352&#45;&gt;132046424567824 -->\n<g id=\"edge5\" class=\"edge\">\n<title>132046424568352&#45;&gt;132046424567824</title>\n<path fill=\"none\" stroke=\"black\" d=\"M163.09,-237.37C163.65,-229.25 164.5,-216.81 165.21,-206.39\"/>\n<polygon fill=\"black\" stroke=\"black\" points=\"168.72,-206.38 165.91,-196.17 161.73,-205.91 168.72,-206.38\"/>\n</g>\n<!-- 132046424566768 -->\n<g id=\"node8\" class=\"node\">\n<title>132046424566768</title>\n<polygon fill=\"lightgrey\" stroke=\"black\" points=\"118,-322.5 17,-322.5 17,-303.5 118,-303.5 118,-322.5\"/>\n<text text-anchor=\"middle\" x=\"67.5\" y=\"-310.5\" font-family=\"monospace\" font-size=\"10.00\">AccumulateGrad</text>\n</g>\n<!-- 132046424566768&#45;&gt;132046424568352 -->\n<g id=\"edge6\" class=\"edge\">\n<title>132046424566768&#45;&gt;132046424568352</title>\n<path fill=\"none\" stroke=\"black\" d=\"M80.31,-303.37C95.89,-292.87 122.43,-275 141.12,-262.4\"/>\n<polygon fill=\"black\" stroke=\"black\" points=\"143.25,-265.19 149.59,-256.7 139.34,-259.38 143.25,-265.19\"/>\n</g>\n<!-- 132046827357984 -->\n<g id=\"node9\" class=\"node\">\n<title>132046827357984</title>\n<polygon fill=\"lightblue\" stroke=\"black\" points=\"100,-394 35,-394 35,-364 100,-364 100,-394\"/>\n<text text-anchor=\"middle\" x=\"67.5\" y=\"-382\" font-family=\"monospace\" font-size=\"10.00\">fc1.bias</text>\n<text text-anchor=\"middle\" x=\"67.5\" y=\"-371\" font-family=\"monospace\" font-size=\"10.00\"> (16)</text>\n</g>\n<!-- 132046827357984&#45;&gt;132046424566768 -->\n<g id=\"edge7\" class=\"edge\">\n<title>132046827357984&#45;&gt;132046424566768</title>\n<path fill=\"none\" stroke=\"black\" d=\"M67.5,-363.8C67.5,-354.7 67.5,-342.79 67.5,-332.9\"/>\n<polygon fill=\"black\" stroke=\"black\" points=\"71,-332.84 67.5,-322.84 64,-332.84 71,-332.84\"/>\n</g>\n<!-- 132046424566816 -->\n<g id=\"node10\" class=\"node\">\n<title>132046424566816</title>\n<polygon fill=\"lightgrey\" stroke=\"black\" points=\"213,-322.5 136,-322.5 136,-303.5 213,-303.5 213,-322.5\"/>\n<text text-anchor=\"middle\" x=\"174.5\" y=\"-310.5\" font-family=\"monospace\" font-size=\"10.00\">TBackward0</text>\n</g>\n<!-- 132046424566816&#45;&gt;132046424568352 -->\n<g id=\"edge8\" class=\"edge\">\n<title>132046424566816&#45;&gt;132046424568352</title>\n<path fill=\"none\" stroke=\"black\" d=\"M172.88,-303.37C171.14,-294.07 168.31,-278.98 166.04,-266.9\"/>\n<polygon fill=\"black\" stroke=\"black\" points=\"169.45,-266.09 164.17,-256.91 162.57,-267.38 169.45,-266.09\"/>\n</g>\n<!-- 132046424566720 -->\n<g id=\"node11\" class=\"node\">\n<title>132046424566720</title>\n<polygon fill=\"lightgrey\" stroke=\"black\" points=\"225,-388.5 124,-388.5 124,-369.5 225,-369.5 225,-388.5\"/>\n<text text-anchor=\"middle\" x=\"174.5\" y=\"-376.5\" font-family=\"monospace\" font-size=\"10.00\">AccumulateGrad</text>\n</g>\n<!-- 132046424566720&#45;&gt;132046424566816 -->\n<g id=\"edge9\" class=\"edge\">\n<title>132046424566720&#45;&gt;132046424566816</title>\n<path fill=\"none\" stroke=\"black\" d=\"M174.5,-369.37C174.5,-360.16 174.5,-345.29 174.5,-333.27\"/>\n<polygon fill=\"black\" stroke=\"black\" points=\"178,-332.91 174.5,-322.91 171,-332.91 178,-332.91\"/>\n</g>\n<!-- 132046825667808 -->\n<g id=\"node12\" class=\"node\">\n<title>132046825667808</title>\n<polygon fill=\"lightblue\" stroke=\"black\" points=\"213,-460 136,-460 136,-430 213,-430 213,-460\"/>\n<text text-anchor=\"middle\" x=\"174.5\" y=\"-448\" font-family=\"monospace\" font-size=\"10.00\">fc1.weight</text>\n<text text-anchor=\"middle\" x=\"174.5\" y=\"-437\" font-family=\"monospace\" font-size=\"10.00\"> (16, 4)</text>\n</g>\n<!-- 132046825667808&#45;&gt;132046424566720 -->\n<g id=\"edge10\" class=\"edge\">\n<title>132046825667808&#45;&gt;132046424566720</title>\n<path fill=\"none\" stroke=\"black\" d=\"M174.5,-429.8C174.5,-420.7 174.5,-408.79 174.5,-398.9\"/>\n<polygon fill=\"black\" stroke=\"black\" points=\"178,-398.84 174.5,-388.84 171,-398.84 178,-398.84\"/>\n</g>\n<!-- 132046424567440 -->\n<g id=\"node13\" class=\"node\">\n<title>132046424567440</title>\n<polygon fill=\"lightgrey\" stroke=\"black\" points=\"313,-196 236,-196 236,-177 313,-177 313,-196\"/>\n<text text-anchor=\"middle\" x=\"274.5\" y=\"-184\" font-family=\"monospace\" font-size=\"10.00\">TBackward0</text>\n</g>\n<!-- 132046424567440&#45;&gt;132046424567344 -->\n<g id=\"edge11\" class=\"edge\">\n<title>132046424567440&#45;&gt;132046424567344</title>\n<path fill=\"none\" stroke=\"black\" d=\"M257.15,-176.98C239.93,-168.54 213.3,-155.47 193.35,-145.68\"/>\n<polygon fill=\"black\" stroke=\"black\" points=\"194.69,-142.43 184.17,-141.17 191.6,-148.72 194.69,-142.43\"/>\n</g>\n<!-- 132046424566624 -->\n<g id=\"node14\" class=\"node\">\n<title>132046424566624</title>\n<polygon fill=\"lightgrey\" stroke=\"black\" points=\"332,-256.5 231,-256.5 231,-237.5 332,-237.5 332,-256.5\"/>\n<text text-anchor=\"middle\" x=\"281.5\" y=\"-244.5\" font-family=\"monospace\" font-size=\"10.00\">AccumulateGrad</text>\n</g>\n<!-- 132046424566624&#45;&gt;132046424567440 -->\n<g id=\"edge12\" class=\"edge\">\n<title>132046424566624&#45;&gt;132046424567440</title>\n<path fill=\"none\" stroke=\"black\" d=\"M280.47,-237.37C279.5,-229.25 278.01,-216.81 276.76,-206.39\"/>\n<polygon fill=\"black\" stroke=\"black\" points=\"280.2,-205.68 275.54,-196.17 273.25,-206.51 280.2,-205.68\"/>\n</g>\n<!-- 132046827506960 -->\n<g id=\"node15\" class=\"node\">\n<title>132046827506960</title>\n<polygon fill=\"lightblue\" stroke=\"black\" points=\"320,-328 243,-328 243,-298 320,-298 320,-328\"/>\n<text text-anchor=\"middle\" x=\"281.5\" y=\"-316\" font-family=\"monospace\" font-size=\"10.00\">fc2.weight</text>\n<text text-anchor=\"middle\" x=\"281.5\" y=\"-305\" font-family=\"monospace\" font-size=\"10.00\"> (3, 16)</text>\n</g>\n<!-- 132046827506960&#45;&gt;132046424566624 -->\n<g id=\"edge13\" class=\"edge\">\n<title>132046827506960&#45;&gt;132046424566624</title>\n<path fill=\"none\" stroke=\"black\" d=\"M281.5,-297.8C281.5,-288.7 281.5,-276.79 281.5,-266.9\"/>\n<polygon fill=\"black\" stroke=\"black\" points=\"285,-266.84 281.5,-256.84 278,-266.84 285,-266.84\"/>\n</g>\n</g>\n</svg>\n",
            "text/plain": [
              "<graphviz.graphs.Digraph at 0x7818743af280>"
            ]
          },
          "metadata": {},
          "execution_count": 16
        }
      ]
    },
    {
      "cell_type": "code",
      "source": [
        "losses = train_batch(model, criterion, optimizer, train_dl, num_epochs=20)"
      ],
      "metadata": {
        "colab": {
          "base_uri": "https://localhost:8080/"
        },
        "id": "B4JW8MdaZO1I",
        "outputId": "e6cde2fa-16a4-4a85-c6fa-97f4a9bd3095"
      },
      "execution_count": null,
      "outputs": [
        {
          "output_type": "stream",
          "name": "stdout",
          "text": [
            "Epoch: 1/20, Loss: 1.0999\n",
            "Epoch: 2/20, Loss: 1.0971\n",
            "Epoch: 3/20, Loss: 1.0966\n",
            "Epoch: 4/20, Loss: 1.0923\n",
            "Epoch: 5/20, Loss: 1.0896\n",
            "Epoch: 6/20, Loss: 1.0878\n",
            "Epoch: 7/20, Loss: 1.0867\n",
            "Epoch: 8/20, Loss: 1.0804\n",
            "Epoch: 9/20, Loss: 1.0793\n",
            "Epoch: 10/20, Loss: 1.0760\n",
            "Epoch: 11/20, Loss: 1.0730\n",
            "Epoch: 12/20, Loss: 1.0700\n",
            "Epoch: 13/20, Loss: 1.0684\n",
            "Epoch: 14/20, Loss: 1.0665\n",
            "Epoch: 15/20, Loss: 1.0635\n",
            "Epoch: 16/20, Loss: 1.0579\n",
            "Epoch: 17/20, Loss: 1.0571\n",
            "Epoch: 18/20, Loss: 1.0529\n",
            "Epoch: 19/20, Loss: 1.0493\n",
            "Epoch: 20/20, Loss: 1.0513\n"
          ]
        }
      ]
    },
    {
      "cell_type": "markdown",
      "source": [
        "## Predict"
      ],
      "metadata": {
        "id": "PDJ_fESDZ9U2"
      }
    },
    {
      "cell_type": "code",
      "source": [
        "y_pred = predict(model, torch.tensor(scaled_X_test, dtype=torch.float32))"
      ],
      "metadata": {
        "id": "IG9Jcq-raCNF"
      },
      "execution_count": null,
      "outputs": []
    },
    {
      "cell_type": "code",
      "source": [
        "y_pred[:5]"
      ],
      "metadata": {
        "colab": {
          "base_uri": "https://localhost:8080/"
        },
        "id": "NzENo8x4aLos",
        "outputId": "348b7d0b-5654-41c9-9068-b8140c0584b5"
      },
      "execution_count": null,
      "outputs": [
        {
          "output_type": "execute_result",
          "data": {
            "text/plain": [
              "tensor([[0.4917, 0.2525, 0.2559],\n",
              "        [0.5017, 0.2484, 0.2499],\n",
              "        [0.3497, 0.3149, 0.3354],\n",
              "        [0.3334, 0.3202, 0.3464],\n",
              "        [0.4959, 0.2527, 0.2515]])"
            ]
          },
          "metadata": {},
          "execution_count": 19
        }
      ]
    },
    {
      "cell_type": "code",
      "source": [
        "from sklearn.metrics import classification_report\n",
        "print(classification_report(encoded_y_test.argmax(axis=1), y_pred.argmax(axis=1)))"
      ],
      "metadata": {
        "colab": {
          "base_uri": "https://localhost:8080/"
        },
        "id": "Ms9QqfPUaT3p",
        "outputId": "4318d1b9-8823-404e-caf4-4448f2f6d535"
      },
      "execution_count": null,
      "outputs": [
        {
          "output_type": "stream",
          "name": "stdout",
          "text": [
            "              precision    recall  f1-score   support\n",
            "\n",
            "           0       0.54      1.00      0.70        14\n",
            "           1       0.00      0.00      0.00        11\n",
            "           2       1.00      0.92      0.96        13\n",
            "\n",
            "    accuracy                           0.68        38\n",
            "   macro avg       0.51      0.64      0.55        38\n",
            "weighted avg       0.54      0.68      0.59        38\n",
            "\n"
          ]
        },
        {
          "output_type": "stream",
          "name": "stderr",
          "text": [
            "/usr/local/lib/python3.10/dist-packages/sklearn/metrics/_classification.py:1344: UndefinedMetricWarning: Precision and F-score are ill-defined and being set to 0.0 in labels with no predicted samples. Use `zero_division` parameter to control this behavior.\n",
            "  _warn_prf(average, modifier, msg_start, len(result))\n",
            "/usr/local/lib/python3.10/dist-packages/sklearn/metrics/_classification.py:1344: UndefinedMetricWarning: Precision and F-score are ill-defined and being set to 0.0 in labels with no predicted samples. Use `zero_division` parameter to control this behavior.\n",
            "  _warn_prf(average, modifier, msg_start, len(result))\n",
            "/usr/local/lib/python3.10/dist-packages/sklearn/metrics/_classification.py:1344: UndefinedMetricWarning: Precision and F-score are ill-defined and being set to 0.0 in labels with no predicted samples. Use `zero_division` parameter to control this behavior.\n",
            "  _warn_prf(average, modifier, msg_start, len(result))\n"
          ]
        }
      ]
    },
    {
      "cell_type": "markdown",
      "source": [
        "## Experience with difference optimizers"
      ],
      "metadata": {
        "id": "73Hz1-oOcUUb"
      }
    },
    {
      "cell_type": "code",
      "source": [
        "import matplotlib.pyplot as plt\n",
        "from sklearn.metrics import accuracy_score\n",
        "import time"
      ],
      "metadata": {
        "id": "t3aT9-cWtyAG"
      },
      "execution_count": null,
      "outputs": []
    },
    {
      "cell_type": "code",
      "source": [
        "optimizer_loss_vals = []\n",
        "optimizers = {'Adam': torch.optim.Adam, 'Adagrad': torch.optim.Adagrad, 'RMSprop': torch.optim.RMSprop}\n",
        "new_criterion = torch.nn.CrossEntropyLoss()\n",
        "trained_models = []\n",
        "\n",
        "for name, optim in optimizers.items():\n",
        "    print(f'Optimizer: {name}')\n",
        "    model = SimpleNN(scaled_X_train.shape[1], 16, 3)\n",
        "    optimizer = optim(model.parameters(), lr=0.01)\n",
        "    new_criterion = torch.nn.CrossEntropyLoss()\n",
        "    optimizer_loss_vals.append(train_batch(model, new_criterion, optimizer, train_dl, num_epochs=70))\n",
        "    trained_models.append(model)"
      ],
      "metadata": {
        "colab": {
          "base_uri": "https://localhost:8080/"
        },
        "id": "cM7TeR4Ca5dK",
        "outputId": "3d56ed64-c4ea-47f3-aead-339508dd6e8d"
      },
      "execution_count": null,
      "outputs": [
        {
          "output_type": "stream",
          "name": "stdout",
          "text": [
            "Optimizer: Adam\n",
            "Epoch: 1/70, Loss: 1.1079\n",
            "Epoch: 2/70, Loss: 1.0427\n",
            "Epoch: 3/70, Loss: 0.9769\n",
            "Epoch: 4/70, Loss: 0.9173\n",
            "Epoch: 5/70, Loss: 0.8407\n",
            "Epoch: 6/70, Loss: 0.7960\n",
            "Epoch: 7/70, Loss: 0.7608\n",
            "Epoch: 8/70, Loss: 0.7445\n",
            "Epoch: 9/70, Loss: 0.7472\n",
            "Epoch: 10/70, Loss: 0.7232\n",
            "Epoch: 11/70, Loss: 0.7046\n",
            "Epoch: 12/70, Loss: 0.6992\n",
            "Epoch: 13/70, Loss: 0.6953\n",
            "Epoch: 14/70, Loss: 0.6790\n",
            "Epoch: 15/70, Loss: 0.6669\n",
            "Epoch: 16/70, Loss: 0.6627\n",
            "Epoch: 17/70, Loss: 0.6440\n",
            "Epoch: 18/70, Loss: 0.6376\n",
            "Epoch: 19/70, Loss: 0.6267\n",
            "Epoch: 20/70, Loss: 0.6188\n",
            "Epoch: 21/70, Loss: 0.6149\n",
            "Epoch: 22/70, Loss: 0.6088\n",
            "Epoch: 23/70, Loss: 0.6018\n",
            "Epoch: 24/70, Loss: 0.5961\n",
            "Epoch: 25/70, Loss: 0.5954\n",
            "Epoch: 26/70, Loss: 0.5890\n",
            "Epoch: 27/70, Loss: 0.5845\n",
            "Epoch: 28/70, Loss: 0.5837\n",
            "Epoch: 29/70, Loss: 0.5817\n",
            "Epoch: 30/70, Loss: 0.5804\n",
            "Epoch: 31/70, Loss: 0.5829\n",
            "Epoch: 32/70, Loss: 0.5814\n",
            "Epoch: 33/70, Loss: 0.5814\n",
            "Epoch: 34/70, Loss: 0.5850\n",
            "Epoch: 35/70, Loss: 0.5747\n",
            "Epoch: 36/70, Loss: 0.5758\n",
            "Epoch: 37/70, Loss: 0.5744\n",
            "Epoch: 38/70, Loss: 0.5753\n",
            "Epoch: 39/70, Loss: 0.5725\n",
            "Epoch: 40/70, Loss: 0.5736\n",
            "Epoch: 41/70, Loss: 0.5727\n",
            "Epoch: 42/70, Loss: 0.5724\n",
            "Epoch: 43/70, Loss: 0.5694\n",
            "Epoch: 44/70, Loss: 0.5698\n",
            "Epoch: 45/70, Loss: 0.5689\n",
            "Epoch: 46/70, Loss: 0.5682\n",
            "Epoch: 47/70, Loss: 0.5712\n",
            "Epoch: 48/70, Loss: 0.5679\n",
            "Epoch: 49/70, Loss: 0.5684\n",
            "Epoch: 50/70, Loss: 0.5726\n",
            "Epoch: 51/70, Loss: 0.5697\n",
            "Epoch: 52/70, Loss: 0.5707\n",
            "Epoch: 53/70, Loss: 0.5664\n",
            "Epoch: 54/70, Loss: 0.5679\n",
            "Epoch: 55/70, Loss: 0.5675\n",
            "Epoch: 56/70, Loss: 0.5657\n",
            "Epoch: 57/70, Loss: 0.5660\n",
            "Epoch: 58/70, Loss: 0.5655\n",
            "Epoch: 59/70, Loss: 0.5652\n",
            "Epoch: 60/70, Loss: 0.5669\n",
            "Epoch: 61/70, Loss: 0.5647\n",
            "Epoch: 62/70, Loss: 0.5677\n",
            "Epoch: 63/70, Loss: 0.5658\n",
            "Epoch: 64/70, Loss: 0.5649\n",
            "Epoch: 65/70, Loss: 0.5662\n",
            "Epoch: 66/70, Loss: 0.5656\n",
            "Epoch: 67/70, Loss: 0.5641\n",
            "Epoch: 68/70, Loss: 0.5682\n",
            "Epoch: 69/70, Loss: 0.5642\n",
            "Epoch: 70/70, Loss: 0.5660\n",
            "Optimizer: Adagrad\n",
            "Epoch: 1/70, Loss: 1.1249\n",
            "Epoch: 2/70, Loss: 1.0981\n",
            "Epoch: 3/70, Loss: 1.0848\n",
            "Epoch: 4/70, Loss: 1.0702\n",
            "Epoch: 5/70, Loss: 1.0568\n",
            "Epoch: 6/70, Loss: 1.0439\n",
            "Epoch: 7/70, Loss: 1.0335\n",
            "Epoch: 8/70, Loss: 1.0186\n",
            "Epoch: 9/70, Loss: 1.0013\n",
            "Epoch: 10/70, Loss: 0.9901\n",
            "Epoch: 11/70, Loss: 0.9777\n",
            "Epoch: 12/70, Loss: 0.9689\n",
            "Epoch: 13/70, Loss: 0.9545\n",
            "Epoch: 14/70, Loss: 0.9403\n",
            "Epoch: 15/70, Loss: 0.9350\n",
            "Epoch: 16/70, Loss: 0.9210\n",
            "Epoch: 17/70, Loss: 0.9009\n",
            "Epoch: 18/70, Loss: 0.9034\n",
            "Epoch: 19/70, Loss: 0.8932\n",
            "Epoch: 20/70, Loss: 0.8862\n",
            "Epoch: 21/70, Loss: 0.8783\n",
            "Epoch: 22/70, Loss: 0.8661\n",
            "Epoch: 23/70, Loss: 0.8599\n",
            "Epoch: 24/70, Loss: 0.8557\n",
            "Epoch: 25/70, Loss: 0.8627\n",
            "Epoch: 26/70, Loss: 0.8488\n",
            "Epoch: 27/70, Loss: 0.8329\n",
            "Epoch: 28/70, Loss: 0.8490\n",
            "Epoch: 29/70, Loss: 0.8335\n",
            "Epoch: 30/70, Loss: 0.8346\n",
            "Epoch: 31/70, Loss: 0.8296\n",
            "Epoch: 32/70, Loss: 0.8131\n",
            "Epoch: 33/70, Loss: 0.8035\n",
            "Epoch: 34/70, Loss: 0.8122\n",
            "Epoch: 35/70, Loss: 0.8119\n",
            "Epoch: 36/70, Loss: 0.8037\n",
            "Epoch: 37/70, Loss: 0.7893\n",
            "Epoch: 38/70, Loss: 0.7921\n",
            "Epoch: 39/70, Loss: 0.7918\n",
            "Epoch: 40/70, Loss: 0.7933\n",
            "Epoch: 41/70, Loss: 0.7884\n",
            "Epoch: 42/70, Loss: 0.7806\n",
            "Epoch: 43/70, Loss: 0.7770\n",
            "Epoch: 44/70, Loss: 0.7782\n",
            "Epoch: 45/70, Loss: 0.7832\n",
            "Epoch: 46/70, Loss: 0.7794\n",
            "Epoch: 47/70, Loss: 0.7665\n",
            "Epoch: 48/70, Loss: 0.7668\n",
            "Epoch: 49/70, Loss: 0.7638\n",
            "Epoch: 50/70, Loss: 0.7666\n",
            "Epoch: 51/70, Loss: 0.7755\n",
            "Epoch: 52/70, Loss: 0.7595\n",
            "Epoch: 53/70, Loss: 0.7809\n",
            "Epoch: 54/70, Loss: 0.7624\n",
            "Epoch: 55/70, Loss: 0.7565\n",
            "Epoch: 56/70, Loss: 0.7654\n",
            "Epoch: 57/70, Loss: 0.7410\n",
            "Epoch: 58/70, Loss: 0.7598\n",
            "Epoch: 59/70, Loss: 0.7433\n",
            "Epoch: 60/70, Loss: 0.7599\n",
            "Epoch: 61/70, Loss: 0.7533\n",
            "Epoch: 62/70, Loss: 0.7498\n",
            "Epoch: 63/70, Loss: 0.7412\n",
            "Epoch: 64/70, Loss: 0.7396\n",
            "Epoch: 65/70, Loss: 0.7539\n",
            "Epoch: 66/70, Loss: 0.7458\n",
            "Epoch: 67/70, Loss: 0.7396\n",
            "Epoch: 68/70, Loss: 0.7299\n",
            "Epoch: 69/70, Loss: 0.7436\n",
            "Epoch: 70/70, Loss: 0.7267\n",
            "Optimizer: RMSprop\n",
            "Epoch: 1/70, Loss: 0.9209\n",
            "Epoch: 2/70, Loss: 0.7447\n",
            "Epoch: 3/70, Loss: 0.7077\n",
            "Epoch: 4/70, Loss: 0.6550\n",
            "Epoch: 5/70, Loss: 0.6297\n",
            "Epoch: 6/70, Loss: 0.6252\n",
            "Epoch: 7/70, Loss: 0.6061\n",
            "Epoch: 8/70, Loss: 0.6052\n",
            "Epoch: 9/70, Loss: 0.5932\n",
            "Epoch: 10/70, Loss: 0.5880\n",
            "Epoch: 11/70, Loss: 0.5834\n",
            "Epoch: 12/70, Loss: 0.5899\n",
            "Epoch: 13/70, Loss: 0.5914\n",
            "Epoch: 14/70, Loss: 0.5847\n",
            "Epoch: 15/70, Loss: 0.5779\n",
            "Epoch: 16/70, Loss: 0.5811\n",
            "Epoch: 17/70, Loss: 0.5781\n",
            "Epoch: 18/70, Loss: 0.5722\n",
            "Epoch: 19/70, Loss: 0.5773\n",
            "Epoch: 20/70, Loss: 0.5722\n",
            "Epoch: 21/70, Loss: 0.5716\n",
            "Epoch: 22/70, Loss: 0.5714\n",
            "Epoch: 23/70, Loss: 0.5711\n",
            "Epoch: 24/70, Loss: 0.5700\n",
            "Epoch: 25/70, Loss: 0.5696\n",
            "Epoch: 26/70, Loss: 0.5684\n",
            "Epoch: 27/70, Loss: 0.5724\n",
            "Epoch: 28/70, Loss: 0.5707\n",
            "Epoch: 29/70, Loss: 0.5674\n",
            "Epoch: 30/70, Loss: 0.5733\n",
            "Epoch: 31/70, Loss: 0.5672\n",
            "Epoch: 32/70, Loss: 0.5687\n",
            "Epoch: 33/70, Loss: 0.5672\n",
            "Epoch: 34/70, Loss: 0.5666\n",
            "Epoch: 35/70, Loss: 0.5667\n",
            "Epoch: 36/70, Loss: 0.5663\n",
            "Epoch: 37/70, Loss: 0.5687\n",
            "Epoch: 38/70, Loss: 0.5658\n",
            "Epoch: 39/70, Loss: 0.5668\n",
            "Epoch: 40/70, Loss: 0.5698\n",
            "Epoch: 41/70, Loss: 0.5656\n",
            "Epoch: 42/70, Loss: 0.5680\n",
            "Epoch: 43/70, Loss: 0.5650\n",
            "Epoch: 44/70, Loss: 0.5630\n",
            "Epoch: 45/70, Loss: 0.5650\n",
            "Epoch: 46/70, Loss: 0.5688\n",
            "Epoch: 47/70, Loss: 0.5714\n",
            "Epoch: 48/70, Loss: 0.5662\n",
            "Epoch: 49/70, Loss: 0.5656\n",
            "Epoch: 50/70, Loss: 0.5632\n",
            "Epoch: 51/70, Loss: 0.5618\n",
            "Epoch: 52/70, Loss: 0.5668\n",
            "Epoch: 53/70, Loss: 0.5634\n",
            "Epoch: 54/70, Loss: 0.5619\n",
            "Epoch: 55/70, Loss: 0.5640\n",
            "Epoch: 56/70, Loss: 0.5640\n",
            "Epoch: 57/70, Loss: 0.5635\n",
            "Epoch: 58/70, Loss: 0.5630\n",
            "Epoch: 59/70, Loss: 0.5668\n",
            "Epoch: 60/70, Loss: 0.5620\n",
            "Epoch: 61/70, Loss: 0.5629\n",
            "Epoch: 62/70, Loss: 0.5623\n",
            "Epoch: 63/70, Loss: 0.5608\n",
            "Epoch: 64/70, Loss: 0.5644\n",
            "Epoch: 65/70, Loss: 0.5667\n",
            "Epoch: 66/70, Loss: 0.5613\n",
            "Epoch: 67/70, Loss: 0.5601\n",
            "Epoch: 68/70, Loss: 0.5613\n",
            "Epoch: 69/70, Loss: 0.5603\n",
            "Epoch: 70/70, Loss: 0.5638\n"
          ]
        }
      ]
    },
    {
      "cell_type": "code",
      "source": [
        "for i, name in enumerate(optimizers.keys()):\n",
        "    plt.plot(optimizer_loss_vals[i], label=name)\n",
        "\n",
        "plt.xlabel('Epoch')\n",
        "plt.ylabel('Loss')\n",
        "plt.title('Training Convergence')\n",
        "plt.legend()\n",
        "plt.show()"
      ],
      "metadata": {
        "colab": {
          "base_uri": "https://localhost:8080/",
          "height": 472
        },
        "id": "HZYM0yEacBzz",
        "outputId": "a190d6e1-2cf9-4805-ebc4-86863ee0d8db"
      },
      "execution_count": null,
      "outputs": [
        {
          "output_type": "display_data",
          "data": {
            "text/plain": [
              "<Figure size 640x480 with 1 Axes>"
            ],
            "image/png": "[encoded data removed]"
          },
          "metadata": {}
        }
      ]
    },
    {
      "cell_type": "code",
      "source": [
        "names = ['Adam', 'Adagrad', 'RMSprop']\n",
        "accuracy_scores = {}\n",
        "for model, name in zip(trained_models, names):\n",
        "  y_pred = predict(model, torch.tensor(scaled_X_test, dtype=torch.float32))\n",
        "  accuracy_scores[name] = accuracy_score(encoded_y_test.argmax(axis=1), y_pred.argmax(axis=1))\n",
        "\n",
        "print(accuracy_scores)"
      ],
      "metadata": {
        "colab": {
          "base_uri": "https://localhost:8080/"
        },
        "id": "2agV2r3VnpZx",
        "outputId": "51436c8b-667a-4903-86b1-bf167c959c4f"
      },
      "execution_count": null,
      "outputs": [
        {
          "output_type": "stream",
          "name": "stdout",
          "text": [
            "{'Adam': 0.9210526315789473, 'Adagrad': 0.8421052631578947, 'RMSprop': 0.9210526315789473}\n"
          ]
        }
      ]
    },
    {
      "cell_type": "code",
      "source": [
        "def addlabels(x,y):\n",
        "    for i in range(len(x)):\n",
        "        plt.text(i, y[i] + 0.007, round(y[i], 2), ha = 'center')"
      ],
      "metadata": {
        "id": "zCjyVKcJsP8w"
      },
      "execution_count": null,
      "outputs": []
    },
    {
      "cell_type": "code",
      "source": [
        "fig = plt.figure(figsize=(7, 5))\n",
        "plt.bar(accuracy_scores.keys(), accuracy_scores.values(), width=0.8)\n",
        "addlabels(list(accuracy_scores.keys()), list(accuracy_scores.values()))\n",
        "\n",
        "plt.xlabel(\"Accuracy\")\n",
        "plt.ylabel(\"Model\")\n",
        "plt.title(\"Accuracy of each model\")\n",
        "plt.show()"
      ],
      "metadata": {
        "colab": {
          "base_uri": "https://localhost:8080/",
          "height": 487
        },
        "id": "6sauUaUcrM-R",
        "outputId": "59aa1b5f-03b1-436c-d226-b541a9e785f9"
      },
      "execution_count": null,
      "outputs": [
        {
          "output_type": "display_data",
          "data": {
            "text/plain": [
              "<Figure size 700x500 with 1 Axes>"
            ],
            "image/png": "[encoded data removed]"
          },
          "metadata": {}
        }
      ]
    },
    {
      "cell_type": "markdown",
      "source": [
        "## Investigate the impact of batch size, learning rate, and network architecture on gradient computation and training dynamics"
      ],
      "metadata": {
        "id": "4qY7LT8Kc-Cs"
      }
    },
    {
      "cell_type": "code",
      "source": [
        "def plot_converge(tester, losses, main_label):\n",
        "  for i, label in enumerate(tester):\n",
        "    plt.plot(losses[i], label=f\"{main_label}: {label}\")\n",
        "\n",
        "  plt.xlabel('Epoch')\n",
        "  plt.ylabel('Loss')\n",
        "  plt.title('Training Convergence')\n",
        "  plt.legend()\n",
        "  plt.show()"
      ],
      "metadata": {
        "id": "eNEHOZjSd74e"
      },
      "execution_count": null,
      "outputs": []
    },
    {
      "cell_type": "markdown",
      "source": [
        "### Batch size"
      ],
      "metadata": {
        "id": "D2c8H6cJc_t9"
      }
    },
    {
      "cell_type": "code",
      "source": [
        "batch_sizes = [16, 32, 64]\n",
        "batch_losses = []\n",
        "for batch_size in batch_sizes:\n",
        "    train_dl = DataLoader(train_ds, batch_size, shuffle=True)\n",
        "\n",
        "    model = SimpleNN(scaled_X_train.shape[1], 16, 3)\n",
        "    criterion = torch.nn.CrossEntropyLoss()\n",
        "    optimizer = torch.optim.SGD(model.parameters(), lr=0.01)\n",
        "    losses = train_batch(model, criterion, optimizer, train_dl, num_epochs=100)\n",
        "\n",
        "    batch_losses.append(losses)\n",
        "    print(f\"Batch Size: {batch_size}, Loss: {losses}\")"
      ],
      "metadata": {
        "colab": {
          "base_uri": "https://localhost:8080/"
        },
        "id": "bxkrZXIIdC5F",
        "outputId": "59dde26b-55e3-49ef-9671-47ab22e8b211"
      },
      "execution_count": null,
      "outputs": [
        {
          "output_type": "stream",
          "name": "stdout",
          "text": [
            "Epoch: 1/100, Loss: 1.1027\n",
            "Epoch: 2/100, Loss: 1.0998\n",
            "Epoch: 3/100, Loss: 1.0969\n",
            "Epoch: 4/100, Loss: 1.0940\n",
            "Epoch: 5/100, Loss: 1.0911\n",
            "Epoch: 6/100, Loss: 1.0881\n",
            "Epoch: 7/100, Loss: 1.0852\n",
            "Epoch: 8/100, Loss: 1.0822\n",
            "Epoch: 9/100, Loss: 1.0792\n",
            "Epoch: 10/100, Loss: 1.0762\n",
            "Epoch: 11/100, Loss: 1.0732\n",
            "Epoch: 12/100, Loss: 1.0701\n",
            "Epoch: 13/100, Loss: 1.0671\n",
            "Epoch: 14/100, Loss: 1.0641\n",
            "Epoch: 15/100, Loss: 1.0610\n",
            "Epoch: 16/100, Loss: 1.0579\n",
            "Epoch: 17/100, Loss: 1.0548\n",
            "Epoch: 18/100, Loss: 1.0517\n",
            "Epoch: 19/100, Loss: 1.0485\n",
            "Epoch: 20/100, Loss: 1.0454\n",
            "Epoch: 21/100, Loss: 1.0421\n",
            "Epoch: 22/100, Loss: 1.0388\n",
            "Epoch: 23/100, Loss: 1.0355\n",
            "Epoch: 24/100, Loss: 1.0322\n",
            "Epoch: 25/100, Loss: 1.0289\n",
            "Epoch: 26/100, Loss: 1.0255\n",
            "Epoch: 27/100, Loss: 1.0221\n",
            "Epoch: 28/100, Loss: 1.0186\n",
            "Epoch: 29/100, Loss: 1.0151\n",
            "Epoch: 30/100, Loss: 1.0116\n",
            "Epoch: 31/100, Loss: 1.0080\n",
            "Epoch: 32/100, Loss: 1.0044\n",
            "Epoch: 33/100, Loss: 1.0008\n",
            "Epoch: 34/100, Loss: 0.9971\n",
            "Epoch: 35/100, Loss: 0.9934\n",
            "Epoch: 36/100, Loss: 0.9897\n",
            "Epoch: 37/100, Loss: 0.9861\n",
            "Epoch: 38/100, Loss: 0.9823\n",
            "Epoch: 39/100, Loss: 0.9785\n",
            "Epoch: 40/100, Loss: 0.9749\n",
            "Epoch: 41/100, Loss: 0.9711\n",
            "Epoch: 42/100, Loss: 0.9673\n",
            "Epoch: 43/100, Loss: 0.9635\n",
            "Epoch: 44/100, Loss: 0.9598\n",
            "Epoch: 45/100, Loss: 0.9561\n",
            "Epoch: 46/100, Loss: 0.9523\n",
            "Epoch: 47/100, Loss: 0.9486\n",
            "Epoch: 48/100, Loss: 0.9449\n",
            "Epoch: 49/100, Loss: 0.9412\n",
            "Epoch: 50/100, Loss: 0.9376\n",
            "Epoch: 51/100, Loss: 0.9340\n",
            "Epoch: 52/100, Loss: 0.9305\n",
            "Epoch: 53/100, Loss: 0.9269\n",
            "Epoch: 54/100, Loss: 0.9235\n",
            "Epoch: 55/100, Loss: 0.9200\n",
            "Epoch: 56/100, Loss: 0.9166\n",
            "Epoch: 57/100, Loss: 0.9133\n",
            "Epoch: 58/100, Loss: 0.9100\n",
            "Epoch: 59/100, Loss: 0.9068\n",
            "Epoch: 60/100, Loss: 0.9036\n",
            "Epoch: 61/100, Loss: 0.9006\n",
            "Epoch: 62/100, Loss: 0.8976\n",
            "Epoch: 63/100, Loss: 0.8947\n",
            "Epoch: 64/100, Loss: 0.8918\n",
            "Epoch: 65/100, Loss: 0.8890\n",
            "Epoch: 66/100, Loss: 0.8863\n",
            "Epoch: 67/100, Loss: 0.8836\n",
            "Epoch: 68/100, Loss: 0.8810\n",
            "Epoch: 69/100, Loss: 0.8785\n",
            "Epoch: 70/100, Loss: 0.8760\n",
            "Epoch: 71/100, Loss: 0.8736\n",
            "Epoch: 72/100, Loss: 0.8712\n",
            "Epoch: 73/100, Loss: 0.8689\n",
            "Epoch: 74/100, Loss: 0.8666\n",
            "Epoch: 75/100, Loss: 0.8645\n",
            "Epoch: 76/100, Loss: 0.8623\n",
            "Epoch: 77/100, Loss: 0.8602\n",
            "Epoch: 78/100, Loss: 0.8582\n",
            "Epoch: 79/100, Loss: 0.8562\n",
            "Epoch: 80/100, Loss: 0.8543\n",
            "Epoch: 81/100, Loss: 0.8523\n",
            "Epoch: 82/100, Loss: 0.8505\n",
            "Epoch: 83/100, Loss: 0.8487\n",
            "Epoch: 84/100, Loss: 0.8469\n",
            "Epoch: 85/100, Loss: 0.8452\n",
            "Epoch: 86/100, Loss: 0.8435\n",
            "Epoch: 87/100, Loss: 0.8419\n",
            "Epoch: 88/100, Loss: 0.8403\n",
            "Epoch: 89/100, Loss: 0.8387\n",
            "Epoch: 90/100, Loss: 0.8372\n",
            "Epoch: 91/100, Loss: 0.8356\n",
            "Epoch: 92/100, Loss: 0.8342\n",
            "Epoch: 93/100, Loss: 0.8327\n",
            "Epoch: 94/100, Loss: 0.8313\n",
            "Epoch: 95/100, Loss: 0.8299\n",
            "Epoch: 96/100, Loss: 0.8285\n",
            "Epoch: 97/100, Loss: 0.8272\n",
            "Epoch: 98/100, Loss: 0.8259\n",
            "Epoch: 99/100, Loss: 0.8246\n",
            "Epoch: 100/100, Loss: 0.8233\n",
            "Batch Size: 16, Loss: [1.102749058178493, 1.099837405341012, 1.096937894821167, 1.0940285410199846, 1.0910648277827673, 1.0881095443453108, 1.0851579393659319, 1.0821764469146729, 1.0792404583522253, 1.076190982546125, 1.0732059819357735, 1.0701450790677751, 1.0671159710202898, 1.0641069071633475, 1.0610239505767822, 1.05790947164808, 1.0548192603247506, 1.0516784702028548, 1.0485179253986903, 1.0453521864754813, 1.0420692818505424, 1.0388425418308802, 1.0355405977794103, 1.032224416732788, 1.0289167080606734, 1.0255002123968942, 1.0220762491226196, 1.0186222110475813, 1.0151122638157435, 1.0115851845060075, 1.0080257909638541, 1.0044484564236231, 1.0007693597248621, 0.9970934646470206, 0.9934009228433881, 0.9896958300045559, 0.9860617348126003, 0.9822854229382106, 0.9785264985901969, 0.9748526981898716, 0.97106386082513, 0.9672681093215942, 0.9635107602391925, 0.9598261373383659, 0.9560849751744952, 0.9523324881281171, 0.9486228397914341, 0.944896902356829, 0.9412226676940918, 0.9376117501940046, 0.9340164235660008, 0.9305019719260079, 0.9269179105758667, 0.9234624334744045, 0.9199694309915815, 0.9166172061647687, 0.9132600596972874, 0.9100101845605033, 0.9067863736833844, 0.903644493647984, 0.9005645854132516, 0.897590628692082, 0.8946795293263027, 0.8917884315763202, 0.8890051160539899, 0.8862688030515399, 0.8835980381284442, 0.8809817263058254, 0.8784863182476589, 0.8760198184422084, 0.8735613737787519, 0.8712250590324402, 0.8689183507646833, 0.8666302476610456, 0.864463210105896, 0.8623094047818866, 0.8602131264550346, 0.858208988394056, 0.8562009164265224, 0.8542613727705819, 0.8523381522723606, 0.8505265627588544, 0.8487217766898019, 0.8469349316188267, 0.8452294043132237, 0.8435483149119786, 0.8419127038546971, 0.840272673538753, 0.8387210283960614, 0.837165824004582, 0.83564806835992, 0.8341811384473529, 0.8327272874968392, 0.8313134057181222, 0.8299116662570408, 0.8285177179745266, 0.8271856733730861, 0.8258680360657829, 0.8245955194745745, 0.8233197416578021]\n",
            "Epoch: 1/100, Loss: 1.0929\n",
            "Epoch: 2/100, Loss: 1.0911\n",
            "Epoch: 3/100, Loss: 1.0898\n",
            "Epoch: 4/100, Loss: 1.0864\n",
            "Epoch: 5/100, Loss: 1.0848\n",
            "Epoch: 6/100, Loss: 1.0818\n",
            "Epoch: 7/100, Loss: 1.0798\n",
            "Epoch: 8/100, Loss: 1.0771\n",
            "Epoch: 9/100, Loss: 1.0754\n",
            "Epoch: 10/100, Loss: 1.0754\n",
            "Epoch: 11/100, Loss: 1.0727\n",
            "Epoch: 12/100, Loss: 1.0702\n",
            "Epoch: 13/100, Loss: 1.0681\n",
            "Epoch: 14/100, Loss: 1.0655\n",
            "Epoch: 15/100, Loss: 1.0648\n",
            "Epoch: 16/100, Loss: 1.0626\n",
            "Epoch: 17/100, Loss: 1.0601\n",
            "Epoch: 18/100, Loss: 1.0583\n",
            "Epoch: 19/100, Loss: 1.0579\n",
            "Epoch: 20/100, Loss: 1.0523\n",
            "Epoch: 21/100, Loss: 1.0539\n",
            "Epoch: 22/100, Loss: 1.0498\n",
            "Epoch: 23/100, Loss: 1.0455\n",
            "Epoch: 24/100, Loss: 1.0477\n",
            "Epoch: 25/100, Loss: 1.0411\n",
            "Epoch: 26/100, Loss: 1.0414\n",
            "Epoch: 27/100, Loss: 1.0377\n",
            "Epoch: 28/100, Loss: 1.0373\n",
            "Epoch: 29/100, Loss: 1.0324\n",
            "Epoch: 30/100, Loss: 1.0333\n",
            "Epoch: 31/100, Loss: 1.0307\n",
            "Epoch: 32/100, Loss: 1.0243\n",
            "Epoch: 33/100, Loss: 1.0252\n",
            "Epoch: 34/100, Loss: 1.0213\n",
            "Epoch: 35/100, Loss: 1.0193\n",
            "Epoch: 36/100, Loss: 1.0206\n",
            "Epoch: 37/100, Loss: 1.0139\n",
            "Epoch: 38/100, Loss: 1.0122\n",
            "Epoch: 39/100, Loss: 1.0093\n",
            "Epoch: 40/100, Loss: 1.0067\n",
            "Epoch: 41/100, Loss: 1.0080\n",
            "Epoch: 42/100, Loss: 0.9994\n",
            "Epoch: 43/100, Loss: 0.9965\n",
            "Epoch: 44/100, Loss: 0.9989\n",
            "Epoch: 45/100, Loss: 0.9965\n",
            "Epoch: 46/100, Loss: 0.9936\n",
            "Epoch: 47/100, Loss: 0.9915\n",
            "Epoch: 48/100, Loss: 0.9860\n",
            "Epoch: 49/100, Loss: 0.9881\n",
            "Epoch: 50/100, Loss: 0.9864\n",
            "Epoch: 51/100, Loss: 0.9864\n",
            "Epoch: 52/100, Loss: 0.9771\n",
            "Epoch: 53/100, Loss: 0.9715\n",
            "Epoch: 54/100, Loss: 0.9724\n",
            "Epoch: 55/100, Loss: 0.9737\n",
            "Epoch: 56/100, Loss: 0.9749\n",
            "Epoch: 57/100, Loss: 0.9650\n",
            "Epoch: 58/100, Loss: 0.9625\n",
            "Epoch: 59/100, Loss: 0.9636\n",
            "Epoch: 60/100, Loss: 0.9626\n",
            "Epoch: 61/100, Loss: 0.9590\n",
            "Epoch: 62/100, Loss: 0.9569\n",
            "Epoch: 63/100, Loss: 0.9539\n",
            "Epoch: 64/100, Loss: 0.9516\n",
            "Epoch: 65/100, Loss: 0.9468\n",
            "Epoch: 66/100, Loss: 0.9470\n",
            "Epoch: 67/100, Loss: 0.9406\n",
            "Epoch: 68/100, Loss: 0.9406\n",
            "Epoch: 69/100, Loss: 0.9300\n",
            "Epoch: 70/100, Loss: 0.9383\n",
            "Epoch: 71/100, Loss: 0.9343\n",
            "Epoch: 72/100, Loss: 0.9359\n",
            "Epoch: 73/100, Loss: 0.9303\n",
            "Epoch: 74/100, Loss: 0.9164\n",
            "Epoch: 75/100, Loss: 0.9247\n",
            "Epoch: 76/100, Loss: 0.9174\n",
            "Epoch: 77/100, Loss: 0.9221\n",
            "Epoch: 78/100, Loss: 0.9160\n",
            "Epoch: 79/100, Loss: 0.9176\n",
            "Epoch: 80/100, Loss: 0.9118\n",
            "Epoch: 81/100, Loss: 0.9182\n",
            "Epoch: 82/100, Loss: 0.9043\n",
            "Epoch: 83/100, Loss: 0.9070\n",
            "Epoch: 84/100, Loss: 0.9036\n",
            "Epoch: 85/100, Loss: 0.9052\n",
            "Epoch: 86/100, Loss: 0.9013\n",
            "Epoch: 87/100, Loss: 0.8904\n",
            "Epoch: 88/100, Loss: 0.8947\n",
            "Epoch: 89/100, Loss: 0.8948\n",
            "Epoch: 90/100, Loss: 0.8894\n",
            "Epoch: 91/100, Loss: 0.8909\n",
            "Epoch: 92/100, Loss: 0.8852\n",
            "Epoch: 93/100, Loss: 0.8948\n",
            "Epoch: 94/100, Loss: 0.8877\n",
            "Epoch: 95/100, Loss: 0.8871\n",
            "Epoch: 96/100, Loss: 0.8853\n",
            "Epoch: 97/100, Loss: 0.8878\n",
            "Epoch: 98/100, Loss: 0.8819\n",
            "Epoch: 99/100, Loss: 0.8739\n",
            "Epoch: 100/100, Loss: 0.8781\n",
            "Batch Size: 32, Loss: [1.0929275453090668, 1.0910808444023132, 1.0898004472255707, 1.0863899886608124, 1.0848147571086884, 1.0817888975143433, 1.0798489153385162, 1.0770853161811829, 1.0754261314868927, 1.075371652841568, 1.072683960199356, 1.0701630413532257, 1.0681332349777222, 1.065511792898178, 1.0648159980773926, 1.0626444220542908, 1.0600881278514862, 1.0582543909549713, 1.0578747987747192, 1.0522601902484894, 1.053872138261795, 1.0498366355895996, 1.0455119907855988, 1.047719120979309, 1.0411172807216644, 1.0414402782917023, 1.0377250611782074, 1.0372544527053833, 1.0323825180530548, 1.0333012640476227, 1.030659168958664, 1.0242832601070404, 1.0251862704753876, 1.0213401913642883, 1.019266128540039, 1.020618587732315, 1.013949692249298, 1.012240082025528, 1.009284108877182, 1.0067356079816818, 1.0080409198999405, 0.9994229376316071, 0.9964505881071091, 0.9989321082830429, 0.9965453147888184, 0.9935815185308456, 0.9914571046829224, 0.9859908819198608, 0.9880531877279282, 0.9864150434732437, 0.9863721132278442, 0.9770586788654327, 0.971534013748169, 0.9723877906799316, 0.9736872166395187, 0.9749090373516083, 0.9649878293275833, 0.9624547362327576, 0.9636040329933167, 0.9626253247261047, 0.9590410441160202, 0.9569191038608551, 0.9538828134536743, 0.9516337662935257, 0.9467707872390747, 0.9470289945602417, 0.9405793398618698, 0.9406210482120514, 0.9300052523612976, 0.9383035600185394, 0.9343321621417999, 0.9358806610107422, 0.9303330034017563, 0.9164144992828369, 0.9246523082256317, 0.9173809289932251, 0.9221253395080566, 0.9160302430391312, 0.9175762981176376, 0.9117971956729889, 0.9181962758302689, 0.904282808303833, 0.9070475101470947, 0.9035671651363373, 0.9051856100559235, 0.9013132750988007, 0.8904101997613907, 0.8947394788265228, 0.8947684168815613, 0.8894255757331848, 0.8908550590276718, 0.8852272480726242, 0.89484041929245, 0.8877208381891251, 0.8871270418167114, 0.8852552622556686, 0.8877638578414917, 0.8819320350885391, 0.873870849609375, 0.8780869841575623]\n",
            "Epoch: 1/100, Loss: 1.1206\n",
            "Epoch: 2/100, Loss: 1.1188\n",
            "Epoch: 3/100, Loss: 1.1194\n",
            "Epoch: 4/100, Loss: 1.1170\n",
            "Epoch: 5/100, Loss: 1.1162\n",
            "Epoch: 6/100, Loss: 1.1169\n",
            "Epoch: 7/100, Loss: 1.1162\n",
            "Epoch: 8/100, Loss: 1.1152\n",
            "Epoch: 9/100, Loss: 1.1155\n",
            "Epoch: 10/100, Loss: 1.1138\n",
            "Epoch: 11/100, Loss: 1.1128\n",
            "Epoch: 12/100, Loss: 1.1112\n",
            "Epoch: 13/100, Loss: 1.1114\n",
            "Epoch: 14/100, Loss: 1.1101\n",
            "Epoch: 15/100, Loss: 1.1087\n",
            "Epoch: 16/100, Loss: 1.1087\n",
            "Epoch: 17/100, Loss: 1.1074\n",
            "Epoch: 18/100, Loss: 1.1059\n",
            "Epoch: 19/100, Loss: 1.1072\n",
            "Epoch: 20/100, Loss: 1.1058\n",
            "Epoch: 21/100, Loss: 1.1059\n",
            "Epoch: 22/100, Loss: 1.1044\n",
            "Epoch: 23/100, Loss: 1.1031\n",
            "Epoch: 24/100, Loss: 1.1010\n",
            "Epoch: 25/100, Loss: 1.1010\n",
            "Epoch: 26/100, Loss: 1.1005\n",
            "Epoch: 27/100, Loss: 1.0987\n",
            "Epoch: 28/100, Loss: 1.0988\n",
            "Epoch: 29/100, Loss: 1.0983\n",
            "Epoch: 30/100, Loss: 1.0966\n",
            "Epoch: 31/100, Loss: 1.0963\n",
            "Epoch: 32/100, Loss: 1.0954\n",
            "Epoch: 33/100, Loss: 1.0950\n",
            "Epoch: 34/100, Loss: 1.0933\n",
            "Epoch: 35/100, Loss: 1.0929\n",
            "Epoch: 36/100, Loss: 1.0913\n",
            "Epoch: 37/100, Loss: 1.0916\n",
            "Epoch: 38/100, Loss: 1.0905\n",
            "Epoch: 39/100, Loss: 1.0891\n",
            "Epoch: 40/100, Loss: 1.0889\n",
            "Epoch: 41/100, Loss: 1.0873\n",
            "Epoch: 42/100, Loss: 1.0865\n",
            "Epoch: 43/100, Loss: 1.0865\n",
            "Epoch: 44/100, Loss: 1.0840\n",
            "Epoch: 45/100, Loss: 1.0836\n",
            "Epoch: 46/100, Loss: 1.0837\n",
            "Epoch: 47/100, Loss: 1.0841\n",
            "Epoch: 48/100, Loss: 1.0820\n",
            "Epoch: 49/100, Loss: 1.0804\n",
            "Epoch: 50/100, Loss: 1.0809\n",
            "Epoch: 51/100, Loss: 1.0790\n",
            "Epoch: 52/100, Loss: 1.0783\n",
            "Epoch: 53/100, Loss: 1.0763\n",
            "Epoch: 54/100, Loss: 1.0760\n",
            "Epoch: 55/100, Loss: 1.0751\n",
            "Epoch: 56/100, Loss: 1.0743\n",
            "Epoch: 57/100, Loss: 1.0735\n",
            "Epoch: 58/100, Loss: 1.0729\n",
            "Epoch: 59/100, Loss: 1.0711\n",
            "Epoch: 60/100, Loss: 1.0710\n",
            "Epoch: 61/100, Loss: 1.0704\n",
            "Epoch: 62/100, Loss: 1.0696\n",
            "Epoch: 63/100, Loss: 1.0680\n",
            "Epoch: 64/100, Loss: 1.0681\n",
            "Epoch: 65/100, Loss: 1.0666\n",
            "Epoch: 66/100, Loss: 1.0662\n",
            "Epoch: 67/100, Loss: 1.0648\n",
            "Epoch: 68/100, Loss: 1.0640\n",
            "Epoch: 69/100, Loss: 1.0629\n",
            "Epoch: 70/100, Loss: 1.0623\n",
            "Epoch: 71/100, Loss: 1.0630\n",
            "Epoch: 72/100, Loss: 1.0601\n",
            "Epoch: 73/100, Loss: 1.0594\n",
            "Epoch: 74/100, Loss: 1.0585\n",
            "Epoch: 75/100, Loss: 1.0573\n",
            "Epoch: 76/100, Loss: 1.0564\n",
            "Epoch: 77/100, Loss: 1.0555\n",
            "Epoch: 78/100, Loss: 1.0546\n",
            "Epoch: 79/100, Loss: 1.0538\n",
            "Epoch: 80/100, Loss: 1.0530\n",
            "Epoch: 81/100, Loss: 1.0527\n",
            "Epoch: 82/100, Loss: 1.0510\n",
            "Epoch: 83/100, Loss: 1.0503\n",
            "Epoch: 84/100, Loss: 1.0496\n",
            "Epoch: 85/100, Loss: 1.0476\n",
            "Epoch: 86/100, Loss: 1.0469\n",
            "Epoch: 87/100, Loss: 1.0467\n",
            "Epoch: 88/100, Loss: 1.0459\n",
            "Epoch: 89/100, Loss: 1.0442\n",
            "Epoch: 90/100, Loss: 1.0424\n",
            "Epoch: 91/100, Loss: 1.0425\n",
            "Epoch: 92/100, Loss: 1.0414\n",
            "Epoch: 93/100, Loss: 1.0415\n",
            "Epoch: 94/100, Loss: 1.0398\n",
            "Epoch: 95/100, Loss: 1.0378\n",
            "Epoch: 96/100, Loss: 1.0389\n",
            "Epoch: 97/100, Loss: 1.0359\n",
            "Epoch: 98/100, Loss: 1.0361\n",
            "Epoch: 99/100, Loss: 1.0347\n",
            "Epoch: 100/100, Loss: 1.0353\n",
            "Batch Size: 64, Loss: [1.1206283569335938, 1.1187953352928162, 1.1194159388542175, 1.1170083284378052, 1.1162405014038086, 1.1169076561927795, 1.1161633729934692, 1.1151843070983887, 1.1155498027801514, 1.1138423681259155, 1.1127660870552063, 1.111187219619751, 1.1114262342453003, 1.1100865602493286, 1.108667016029358, 1.1086589694023132, 1.1074093580245972, 1.10591459274292, 1.1071878671646118, 1.1058281064033508, 1.1058661341667175, 1.1043994426727295, 1.1031476259231567, 1.1010239720344543, 1.1009674072265625, 1.1005449295043945, 1.0987361073493958, 1.0987659692764282, 1.098322570323944, 1.0965598821640015, 1.0962552428245544, 1.095399260520935, 1.0949870347976685, 1.0932836532592773, 1.0928625464439392, 1.0912994146347046, 1.0915523171424866, 1.0904589295387268, 1.0891370177268982, 1.0889488458633423, 1.0872520804405212, 1.0865320563316345, 1.0865166187286377, 1.0839727520942688, 1.083557367324829, 1.0837425589561462, 1.0841245651245117, 1.0820289254188538, 1.080431878566742, 1.0809232592582703, 1.0790284872055054, 1.0782797932624817, 1.0763272643089294, 1.0760087966918945, 1.0750770568847656, 1.0743095874786377, 1.0734639763832092, 1.0728595852851868, 1.0711305141448975, 1.0710116624832153, 1.0703603029251099, 1.0695706009864807, 1.0680348873138428, 1.068109929561615, 1.0666121244430542, 1.0661737322807312, 1.0648149251937866, 1.0639997124671936, 1.0629428029060364, 1.06226247549057, 1.0630469918251038, 1.060102105140686, 1.0593510270118713, 1.0585337281227112, 1.0572986006736755, 1.0564213991165161, 1.0555057525634766, 1.05458265542984, 1.0538399815559387, 1.0529977679252625, 1.0527235269546509, 1.0510101914405823, 1.0502686500549316, 1.049618661403656, 1.0476099848747253, 1.0469201803207397, 1.0466651320457458, 1.0458842515945435, 1.0442026257514954, 1.04236900806427, 1.0424842834472656, 1.0413858294487, 1.0414623022079468, 1.0398195385932922, 1.0377816557884216, 1.038947582244873, 1.0358747243881226, 1.036051332950592, 1.034653663635254, 1.0352564454078674]\n"
          ]
        }
      ]
    },
    {
      "cell_type": "code",
      "source": [
        "plot_converge(batch_sizes, batch_losses, \"Batch\")"
      ],
      "metadata": {
        "colab": {
          "base_uri": "https://localhost:8080/",
          "height": 472
        },
        "id": "uGwqdMkCdWgM",
        "outputId": "6c006ea9-f2ee-48bc-d6b1-4de42bc8d2e1"
      },
      "execution_count": null,
      "outputs": [
        {
          "output_type": "display_data",
          "data": {
            "text/plain": [
              "<Figure size 640x480 with 1 Axes>"
            ],
            "image/png": "[encoded data removed]"
          },
          "metadata": {}
        }
      ]
    },
    {
      "cell_type": "markdown",
      "source": [
        "### Learning rate"
      ],
      "metadata": {
        "id": "hKAJfHLsdt3I"
      }
    },
    {
      "cell_type": "code",
      "source": [
        "learning_rates = [0.1, 0.05, 0.0025]\n",
        "lr_losses = []\n",
        "for lr in learning_rates:\n",
        "    train_dl = DataLoader(train_ds, 32, shuffle=True)\n",
        "\n",
        "    model = SimpleNN(scaled_X_train.shape[1], 16, 3)\n",
        "    criterion = torch.nn.CrossEntropyLoss()\n",
        "    optimizer = torch.optim.SGD(model.parameters(), lr=lr)\n",
        "    losses = train_batch(model, criterion, optimizer, train_dl, num_epochs=100)\n",
        "\n",
        "    lr_losses.append(losses)\n",
        "    print(f\"Learning Rate: {lr}, Loss: {losses}\")"
      ],
      "metadata": {
        "colab": {
          "base_uri": "https://localhost:8080/"
        },
        "id": "EFXHZIo4dw7t",
        "outputId": "6ad8e83b-1f52-4474-d9f2-a9e4ca0ba948"
      },
      "execution_count": null,
      "outputs": [
        {
          "output_type": "stream",
          "name": "stdout",
          "text": [
            "Epoch: 1/100, Loss: 1.1014\n",
            "Epoch: 2/100, Loss: 1.0839\n",
            "Epoch: 3/100, Loss: 1.0674\n",
            "Epoch: 4/100, Loss: 1.0528\n",
            "Epoch: 5/100, Loss: 1.0373\n",
            "Epoch: 6/100, Loss: 1.0090\n",
            "Epoch: 7/100, Loss: 0.9996\n",
            "Epoch: 8/100, Loss: 0.9760\n",
            "Epoch: 9/100, Loss: 0.9571\n",
            "Epoch: 10/100, Loss: 0.9484\n",
            "Epoch: 11/100, Loss: 0.9254\n",
            "Epoch: 12/100, Loss: 0.9129\n",
            "Epoch: 13/100, Loss: 0.8941\n",
            "Epoch: 14/100, Loss: 0.8835\n",
            "Epoch: 15/100, Loss: 0.8770\n",
            "Epoch: 16/100, Loss: 0.8636\n",
            "Epoch: 17/100, Loss: 0.8549\n",
            "Epoch: 18/100, Loss: 0.8508\n",
            "Epoch: 19/100, Loss: 0.8533\n",
            "Epoch: 20/100, Loss: 0.8398\n",
            "Epoch: 21/100, Loss: 0.8228\n",
            "Epoch: 22/100, Loss: 0.8335\n",
            "Epoch: 23/100, Loss: 0.8196\n",
            "Epoch: 24/100, Loss: 0.8192\n",
            "Epoch: 25/100, Loss: 0.8104\n",
            "Epoch: 26/100, Loss: 0.8144\n",
            "Epoch: 27/100, Loss: 0.8041\n",
            "Epoch: 28/100, Loss: 0.7961\n",
            "Epoch: 29/100, Loss: 0.7931\n",
            "Epoch: 30/100, Loss: 0.7886\n",
            "Epoch: 31/100, Loss: 0.7849\n",
            "Epoch: 32/100, Loss: 0.7950\n",
            "Epoch: 33/100, Loss: 0.7877\n",
            "Epoch: 34/100, Loss: 0.7969\n",
            "Epoch: 35/100, Loss: 0.7780\n",
            "Epoch: 36/100, Loss: 0.7685\n",
            "Epoch: 37/100, Loss: 0.7600\n",
            "Epoch: 38/100, Loss: 0.7546\n",
            "Epoch: 39/100, Loss: 0.7661\n",
            "Epoch: 40/100, Loss: 0.7578\n",
            "Epoch: 41/100, Loss: 0.7514\n",
            "Epoch: 42/100, Loss: 0.7556\n",
            "Epoch: 43/100, Loss: 0.7508\n",
            "Epoch: 44/100, Loss: 0.7491\n",
            "Epoch: 45/100, Loss: 0.7322\n",
            "Epoch: 46/100, Loss: 0.7431\n",
            "Epoch: 47/100, Loss: 0.7350\n",
            "Epoch: 48/100, Loss: 0.7318\n",
            "Epoch: 49/100, Loss: 0.7312\n",
            "Epoch: 50/100, Loss: 0.7444\n",
            "Epoch: 51/100, Loss: 0.7246\n",
            "Epoch: 52/100, Loss: 0.7314\n",
            "Epoch: 53/100, Loss: 0.7270\n",
            "Epoch: 54/100, Loss: 0.7226\n",
            "Epoch: 55/100, Loss: 0.7224\n",
            "Epoch: 56/100, Loss: 0.7122\n",
            "Epoch: 57/100, Loss: 0.7136\n",
            "Epoch: 58/100, Loss: 0.7102\n",
            "Epoch: 59/100, Loss: 0.7174\n",
            "Epoch: 60/100, Loss: 0.7060\n",
            "Epoch: 61/100, Loss: 0.7019\n",
            "Epoch: 62/100, Loss: 0.6993\n",
            "Epoch: 63/100, Loss: 0.7054\n",
            "Epoch: 64/100, Loss: 0.7170\n",
            "Epoch: 65/100, Loss: 0.6922\n",
            "Epoch: 66/100, Loss: 0.7045\n",
            "Epoch: 67/100, Loss: 0.7015\n",
            "Epoch: 68/100, Loss: 0.6927\n",
            "Epoch: 69/100, Loss: 0.6901\n",
            "Epoch: 70/100, Loss: 0.6969\n",
            "Epoch: 71/100, Loss: 0.6813\n",
            "Epoch: 72/100, Loss: 0.6831\n",
            "Epoch: 73/100, Loss: 0.6908\n",
            "Epoch: 74/100, Loss: 0.6846\n",
            "Epoch: 75/100, Loss: 0.6816\n",
            "Epoch: 76/100, Loss: 0.6817\n",
            "Epoch: 77/100, Loss: 0.6820\n",
            "Epoch: 78/100, Loss: 0.6737\n",
            "Epoch: 79/100, Loss: 0.6737\n",
            "Epoch: 80/100, Loss: 0.6770\n",
            "Epoch: 81/100, Loss: 0.6693\n",
            "Epoch: 82/100, Loss: 0.6669\n",
            "Epoch: 83/100, Loss: 0.6680\n",
            "Epoch: 84/100, Loss: 0.6721\n",
            "Epoch: 85/100, Loss: 0.6588\n",
            "Epoch: 86/100, Loss: 0.6606\n",
            "Epoch: 87/100, Loss: 0.6647\n",
            "Epoch: 88/100, Loss: 0.6577\n",
            "Epoch: 89/100, Loss: 0.6646\n",
            "Epoch: 90/100, Loss: 0.6586\n",
            "Epoch: 91/100, Loss: 0.6591\n",
            "Epoch: 92/100, Loss: 0.6565\n",
            "Epoch: 93/100, Loss: 0.6512\n",
            "Epoch: 94/100, Loss: 0.6515\n",
            "Epoch: 95/100, Loss: 0.6497\n",
            "Epoch: 96/100, Loss: 0.6497\n",
            "Epoch: 97/100, Loss: 0.6575\n",
            "Epoch: 98/100, Loss: 0.6468\n",
            "Epoch: 99/100, Loss: 0.6502\n",
            "Epoch: 100/100, Loss: 0.6474\n",
            "Learning Rate: 0.1, Loss: [1.1014079451560974, 1.0838582813739777, 1.0674132704734802, 1.0528203547000885, 1.0372920334339142, 1.0090225338935852, 0.9996148347854614, 0.9759604930877686, 0.9570615440607071, 0.9483582526445389, 0.9254204630851746, 0.9128901958465576, 0.8941081017255783, 0.8835224509239197, 0.8770332634449005, 0.8636135905981064, 0.8549185246229172, 0.8508428335189819, 0.8532705903053284, 0.8397870361804962, 0.822817787528038, 0.8334602862596512, 0.8195904046297073, 0.8191531896591187, 0.8104425072669983, 0.8143573254346848, 0.804132267832756, 0.7961145341396332, 0.7930938303470612, 0.788588747382164, 0.7848630398511887, 0.7950067073106766, 0.7876534759998322, 0.7968862652778625, 0.7779989987611771, 0.768500566482544, 0.7600025534629822, 0.7546442002058029, 0.7660853266716003, 0.7577993869781494, 0.7513788640499115, 0.7555661052465439, 0.7507955729961395, 0.7490664422512054, 0.7322425991296768, 0.7431410998106003, 0.735005110502243, 0.731802761554718, 0.7311779856681824, 0.7444124817848206, 0.7246120423078537, 0.7314401417970657, 0.7269855439662933, 0.7225883901119232, 0.7223797738552094, 0.7122270315885544, 0.7136028110980988, 0.7102077603340149, 0.7174014896154404, 0.706012487411499, 0.7018746435642242, 0.6993454247713089, 0.7053641229867935, 0.7170004397630692, 0.6922116875648499, 0.7045277059078217, 0.7015240490436554, 0.6926539987325668, 0.6900886744260788, 0.6969330012798309, 0.6812751293182373, 0.6830926984548569, 0.6907546669244766, 0.6846153289079666, 0.6816467791795731, 0.6817136257886887, 0.6819891035556793, 0.6736876517534256, 0.6736583709716797, 0.6770121902227402, 0.6692588180303574, 0.6669187843799591, 0.6680368930101395, 0.6720513552427292, 0.6587691158056259, 0.6606315672397614, 0.6646871119737625, 0.6576948165893555, 0.6645762175321579, 0.6586372703313828, 0.6590774059295654, 0.6564914435148239, 0.6511635482311249, 0.6514735519886017, 0.6497063636779785, 0.6496890932321548, 0.6575165092945099, 0.6467952579259872, 0.6502295583486557, 0.6473502963781357]\n",
            "Epoch: 1/100, Loss: 1.0907\n",
            "Epoch: 2/100, Loss: 1.0799\n",
            "Epoch: 3/100, Loss: 1.0757\n",
            "Epoch: 4/100, Loss: 1.0626\n",
            "Epoch: 5/100, Loss: 1.0525\n",
            "Epoch: 6/100, Loss: 1.0398\n",
            "Epoch: 7/100, Loss: 1.0275\n",
            "Epoch: 8/100, Loss: 1.0192\n",
            "Epoch: 9/100, Loss: 1.0093\n",
            "Epoch: 10/100, Loss: 0.9974\n",
            "Epoch: 11/100, Loss: 0.9859\n",
            "Epoch: 12/100, Loss: 0.9770\n",
            "Epoch: 13/100, Loss: 0.9622\n",
            "Epoch: 14/100, Loss: 0.9503\n",
            "Epoch: 15/100, Loss: 0.9454\n",
            "Epoch: 16/100, Loss: 0.9361\n",
            "Epoch: 17/100, Loss: 0.9188\n",
            "Epoch: 18/100, Loss: 0.9204\n",
            "Epoch: 19/100, Loss: 0.9102\n",
            "Epoch: 20/100, Loss: 0.8949\n",
            "Epoch: 21/100, Loss: 0.8870\n",
            "Epoch: 22/100, Loss: 0.8846\n",
            "Epoch: 23/100, Loss: 0.8754\n",
            "Epoch: 24/100, Loss: 0.8712\n",
            "Epoch: 25/100, Loss: 0.8674\n",
            "Epoch: 26/100, Loss: 0.8505\n",
            "Epoch: 27/100, Loss: 0.8533\n",
            "Epoch: 28/100, Loss: 0.8538\n",
            "Epoch: 29/100, Loss: 0.8498\n",
            "Epoch: 30/100, Loss: 0.8520\n",
            "Epoch: 31/100, Loss: 0.8427\n",
            "Epoch: 32/100, Loss: 0.8500\n",
            "Epoch: 33/100, Loss: 0.8330\n",
            "Epoch: 34/100, Loss: 0.8161\n",
            "Epoch: 35/100, Loss: 0.8338\n",
            "Epoch: 36/100, Loss: 0.8261\n",
            "Epoch: 37/100, Loss: 0.8271\n",
            "Epoch: 38/100, Loss: 0.8274\n",
            "Epoch: 39/100, Loss: 0.8119\n",
            "Epoch: 40/100, Loss: 0.8173\n",
            "Epoch: 41/100, Loss: 0.8130\n",
            "Epoch: 42/100, Loss: 0.8143\n",
            "Epoch: 43/100, Loss: 0.8122\n",
            "Epoch: 44/100, Loss: 0.8214\n",
            "Epoch: 45/100, Loss: 0.8087\n",
            "Epoch: 46/100, Loss: 0.8137\n",
            "Epoch: 47/100, Loss: 0.8035\n",
            "Epoch: 48/100, Loss: 0.8077\n",
            "Epoch: 49/100, Loss: 0.7994\n",
            "Epoch: 50/100, Loss: 0.7944\n",
            "Epoch: 51/100, Loss: 0.7898\n",
            "Epoch: 52/100, Loss: 0.8059\n",
            "Epoch: 53/100, Loss: 0.7957\n",
            "Epoch: 54/100, Loss: 0.7838\n",
            "Epoch: 55/100, Loss: 0.7814\n",
            "Epoch: 56/100, Loss: 0.7833\n",
            "Epoch: 57/100, Loss: 0.7852\n",
            "Epoch: 58/100, Loss: 0.7819\n",
            "Epoch: 59/100, Loss: 0.7918\n",
            "Epoch: 60/100, Loss: 0.7776\n",
            "Epoch: 61/100, Loss: 0.7859\n",
            "Epoch: 62/100, Loss: 0.7685\n",
            "Epoch: 63/100, Loss: 0.7747\n",
            "Epoch: 64/100, Loss: 0.7721\n",
            "Epoch: 65/100, Loss: 0.7717\n",
            "Epoch: 66/100, Loss: 0.7688\n",
            "Epoch: 67/100, Loss: 0.7749\n",
            "Epoch: 68/100, Loss: 0.7720\n",
            "Epoch: 69/100, Loss: 0.7759\n",
            "Epoch: 70/100, Loss: 0.7557\n",
            "Epoch: 71/100, Loss: 0.7713\n",
            "Epoch: 72/100, Loss: 0.7492\n",
            "Epoch: 73/100, Loss: 0.7681\n",
            "Epoch: 74/100, Loss: 0.7508\n",
            "Epoch: 75/100, Loss: 0.7608\n",
            "Epoch: 76/100, Loss: 0.7580\n",
            "Epoch: 77/100, Loss: 0.7503\n",
            "Epoch: 78/100, Loss: 0.7524\n",
            "Epoch: 79/100, Loss: 0.7472\n",
            "Epoch: 80/100, Loss: 0.7463\n",
            "Epoch: 81/100, Loss: 0.7449\n",
            "Epoch: 82/100, Loss: 0.7424\n",
            "Epoch: 83/100, Loss: 0.7474\n",
            "Epoch: 84/100, Loss: 0.7293\n",
            "Epoch: 85/100, Loss: 0.7475\n",
            "Epoch: 86/100, Loss: 0.7328\n",
            "Epoch: 87/100, Loss: 0.7366\n",
            "Epoch: 88/100, Loss: 0.7401\n",
            "Epoch: 89/100, Loss: 0.7275\n",
            "Epoch: 90/100, Loss: 0.7286\n",
            "Epoch: 91/100, Loss: 0.7382\n",
            "Epoch: 92/100, Loss: 0.7314\n",
            "Epoch: 93/100, Loss: 0.7230\n",
            "Epoch: 94/100, Loss: 0.7242\n",
            "Epoch: 95/100, Loss: 0.7182\n",
            "Epoch: 96/100, Loss: 0.7184\n",
            "Epoch: 97/100, Loss: 0.7322\n",
            "Epoch: 98/100, Loss: 0.7290\n",
            "Epoch: 99/100, Loss: 0.7243\n",
            "Epoch: 100/100, Loss: 0.7137\n",
            "Learning Rate: 0.05, Loss: [1.0907109081745148, 1.0798709094524384, 1.0757314264774323, 1.0626126825809479, 1.05250945687294, 1.0397688150405884, 1.027499407529831, 1.0192071497440338, 1.009264126420021, 0.9973635673522949, 0.9859452694654465, 0.9769535660743713, 0.9622213989496231, 0.9502561390399933, 0.9453893005847931, 0.9361041635274887, 0.9188388288021088, 0.9204372614622116, 0.9101713001728058, 0.8948854058980942, 0.8870470076799393, 0.8846481442451477, 0.8753704130649567, 0.8711637407541275, 0.8673793971538544, 0.8505235761404037, 0.8533092141151428, 0.8537643253803253, 0.8497639000415802, 0.8519739508628845, 0.8426537364721298, 0.8499958664178848, 0.8329973965883255, 0.8161144554615021, 0.8337954133749008, 0.8261239975690842, 0.8271131217479706, 0.827383890748024, 0.8119172751903534, 0.8172522783279419, 0.8129551708698273, 0.8142584711313248, 0.8122287392616272, 0.8214356750249863, 0.8087344467639923, 0.8136733770370483, 0.8034507036209106, 0.8077370077371597, 0.7994083911180496, 0.7943552285432816, 0.7897540032863617, 0.8059188574552536, 0.7957463562488556, 0.7838072180747986, 0.7813867330551147, 0.7833183258771896, 0.7851762026548386, 0.7818857133388519, 0.7918016910552979, 0.7776263654232025, 0.7858913838863373, 0.7685165405273438, 0.7747434079647064, 0.7721379697322845, 0.7716562151908875, 0.7687615603208542, 0.7748512625694275, 0.7719957381486893, 0.7759005427360535, 0.7556804269552231, 0.7713376730680466, 0.7491657435894012, 0.7681048065423965, 0.7508476376533508, 0.760824054479599, 0.7580291926860809, 0.750342845916748, 0.7523504793643951, 0.747209444642067, 0.746267780661583, 0.7449101358652115, 0.7424367219209671, 0.7474231719970703, 0.7293024510145187, 0.7475419789552689, 0.7327794879674911, 0.7365722358226776, 0.7400752305984497, 0.7275341600179672, 0.7285574078559875, 0.7382005006074905, 0.7313984036445618, 0.7230114638805389, 0.7241760045289993, 0.7182405889034271, 0.7183761447668076, 0.7321863323450089, 0.7290337979793549, 0.7242661118507385, 0.7137048095464706]\n",
            "Epoch: 1/100, Loss: 1.1135\n",
            "Epoch: 2/100, Loss: 1.1122\n",
            "Epoch: 3/100, Loss: 1.1100\n",
            "Epoch: 4/100, Loss: 1.1119\n",
            "Epoch: 5/100, Loss: 1.1113\n",
            "Epoch: 6/100, Loss: 1.1121\n",
            "Epoch: 7/100, Loss: 1.1111\n",
            "Epoch: 8/100, Loss: 1.1109\n",
            "Epoch: 9/100, Loss: 1.1124\n",
            "Epoch: 10/100, Loss: 1.1075\n",
            "Epoch: 11/100, Loss: 1.1052\n",
            "Epoch: 12/100, Loss: 1.1057\n",
            "Epoch: 13/100, Loss: 1.1025\n",
            "Epoch: 14/100, Loss: 1.1053\n",
            "Epoch: 15/100, Loss: 1.1038\n",
            "Epoch: 16/100, Loss: 1.1034\n",
            "Epoch: 17/100, Loss: 1.1066\n",
            "Epoch: 18/100, Loss: 1.1012\n",
            "Epoch: 19/100, Loss: 1.1024\n",
            "Epoch: 20/100, Loss: 1.1019\n",
            "Epoch: 21/100, Loss: 1.1008\n",
            "Epoch: 22/100, Loss: 1.1007\n",
            "Epoch: 23/100, Loss: 1.0984\n",
            "Epoch: 24/100, Loss: 1.1021\n",
            "Epoch: 25/100, Loss: 1.0972\n",
            "Epoch: 26/100, Loss: 1.0966\n",
            "Epoch: 27/100, Loss: 1.0968\n",
            "Epoch: 28/100, Loss: 1.0989\n",
            "Epoch: 29/100, Loss: 1.0953\n",
            "Epoch: 30/100, Loss: 1.0947\n",
            "Epoch: 31/100, Loss: 1.0961\n",
            "Epoch: 32/100, Loss: 1.0915\n",
            "Epoch: 33/100, Loss: 1.0945\n",
            "Epoch: 34/100, Loss: 1.0906\n",
            "Epoch: 35/100, Loss: 1.0930\n",
            "Epoch: 36/100, Loss: 1.0929\n",
            "Epoch: 37/100, Loss: 1.0920\n",
            "Epoch: 38/100, Loss: 1.0910\n",
            "Epoch: 39/100, Loss: 1.0905\n",
            "Epoch: 40/100, Loss: 1.0920\n",
            "Epoch: 41/100, Loss: 1.0859\n",
            "Epoch: 42/100, Loss: 1.0865\n",
            "Epoch: 43/100, Loss: 1.0885\n",
            "Epoch: 44/100, Loss: 1.0890\n",
            "Epoch: 45/100, Loss: 1.0863\n",
            "Epoch: 46/100, Loss: 1.0849\n",
            "Epoch: 47/100, Loss: 1.0842\n",
            "Epoch: 48/100, Loss: 1.0855\n",
            "Epoch: 49/100, Loss: 1.0841\n",
            "Epoch: 50/100, Loss: 1.0842\n",
            "Epoch: 51/100, Loss: 1.0842\n",
            "Epoch: 52/100, Loss: 1.0853\n",
            "Epoch: 53/100, Loss: 1.0826\n",
            "Epoch: 54/100, Loss: 1.0809\n",
            "Epoch: 55/100, Loss: 1.0797\n",
            "Epoch: 56/100, Loss: 1.0799\n",
            "Epoch: 57/100, Loss: 1.0784\n",
            "Epoch: 58/100, Loss: 1.0790\n",
            "Epoch: 59/100, Loss: 1.0762\n",
            "Epoch: 60/100, Loss: 1.0762\n",
            "Epoch: 61/100, Loss: 1.0774\n",
            "Epoch: 62/100, Loss: 1.0770\n",
            "Epoch: 63/100, Loss: 1.0745\n",
            "Epoch: 64/100, Loss: 1.0754\n",
            "Epoch: 65/100, Loss: 1.0761\n",
            "Epoch: 66/100, Loss: 1.0745\n",
            "Epoch: 67/100, Loss: 1.0737\n",
            "Epoch: 68/100, Loss: 1.0710\n",
            "Epoch: 69/100, Loss: 1.0721\n",
            "Epoch: 70/100, Loss: 1.0718\n",
            "Epoch: 71/100, Loss: 1.0711\n",
            "Epoch: 72/100, Loss: 1.0691\n",
            "Epoch: 73/100, Loss: 1.0672\n",
            "Epoch: 74/100, Loss: 1.0680\n",
            "Epoch: 75/100, Loss: 1.0684\n",
            "Epoch: 76/100, Loss: 1.0663\n",
            "Epoch: 77/100, Loss: 1.0682\n",
            "Epoch: 78/100, Loss: 1.0671\n",
            "Epoch: 79/100, Loss: 1.0652\n",
            "Epoch: 80/100, Loss: 1.0662\n",
            "Epoch: 81/100, Loss: 1.0651\n",
            "Epoch: 82/100, Loss: 1.0643\n",
            "Epoch: 83/100, Loss: 1.0636\n",
            "Epoch: 84/100, Loss: 1.0633\n",
            "Epoch: 85/100, Loss: 1.0623\n",
            "Epoch: 86/100, Loss: 1.0600\n",
            "Epoch: 87/100, Loss: 1.0608\n",
            "Epoch: 88/100, Loss: 1.0595\n",
            "Epoch: 89/100, Loss: 1.0610\n",
            "Epoch: 90/100, Loss: 1.0588\n",
            "Epoch: 91/100, Loss: 1.0584\n",
            "Epoch: 92/100, Loss: 1.0579\n",
            "Epoch: 93/100, Loss: 1.0574\n",
            "Epoch: 94/100, Loss: 1.0546\n",
            "Epoch: 95/100, Loss: 1.0563\n",
            "Epoch: 96/100, Loss: 1.0563\n",
            "Epoch: 97/100, Loss: 1.0553\n",
            "Epoch: 98/100, Loss: 1.0540\n",
            "Epoch: 99/100, Loss: 1.0520\n",
            "Epoch: 100/100, Loss: 1.0514\n",
            "Learning Rate: 0.0025, Loss: [1.1134715974330902, 1.112231194972992, 1.1099978685379028, 1.1119159758090973, 1.1113475263118744, 1.1120620667934418, 1.1111069917678833, 1.1109192669391632, 1.1123612225055695, 1.1075381934642792, 1.1052469611167908, 1.1057029366493225, 1.1025372743606567, 1.105273723602295, 1.103829562664032, 1.1033621728420258, 1.1066111326217651, 1.1012259721755981, 1.1024314165115356, 1.1018507480621338, 1.1007724106311798, 1.100712150335312, 1.0983659029006958, 1.1021273136138916, 1.09722438454628, 1.0965952277183533, 1.0967615246772766, 1.0989208221435547, 1.0953384637832642, 1.0947348177433014, 1.0961322784423828, 1.0914807617664337, 1.0944830775260925, 1.090598225593567, 1.093025267124176, 1.0929292738437653, 1.0919637382030487, 1.090972661972046, 1.090499371290207, 1.091991126537323, 1.0858807265758514, 1.08647820353508, 1.0884833931922913, 1.089037448167801, 1.0862558484077454, 1.0849197208881378, 1.0842496752738953, 1.0855371356010437, 1.0841449201107025, 1.0842130184173584, 1.0842385590076447, 1.0853127241134644, 1.0826041102409363, 1.080918312072754, 1.0797468721866608, 1.079887479543686, 1.0784216821193695, 1.0790255665779114, 1.0762152969837189, 1.0761989653110504, 1.0774315297603607, 1.0769838988780975, 1.0744662880897522, 1.0754003822803497, 1.076122671365738, 1.0745462477207184, 1.0737395882606506, 1.0710401237010956, 1.0720711946487427, 1.0718195140361786, 1.0711150467395782, 1.0690657496452332, 1.0671648383140564, 1.068031519651413, 1.0683818757534027, 1.0662670135498047, 1.068198323249817, 1.067097246646881, 1.0652499198913574, 1.0662413239479065, 1.0651151835918427, 1.064286470413208, 1.0635598003864288, 1.063280314207077, 1.0623465478420258, 1.0600082278251648, 1.0607607662677765, 1.059467375278473, 1.0609553754329681, 1.0588006377220154, 1.0584029853343964, 1.0579462051391602, 1.0574081242084503, 1.0545585751533508, 1.0562724769115448, 1.0563044846057892, 1.0552672445774078, 1.0540440380573273, 1.0519631803035736, 1.0514024794101715]\n"
          ]
        }
      ]
    },
    {
      "cell_type": "code",
      "source": [
        "plot_converge(learning_rates, lr_losses, \"Learning rate\")"
      ],
      "metadata": {
        "colab": {
          "base_uri": "https://localhost:8080/",
          "height": 472
        },
        "id": "L4jaknmLd03A",
        "outputId": "f9d6cedf-cf5f-4471-da16-ddc6c1fb0c67"
      },
      "execution_count": null,
      "outputs": [
        {
          "output_type": "display_data",
          "data": {
            "text/plain": [
              "<Figure size 640x480 with 1 Axes>"
            ],
            "image/png": "[encoded data removed]"
          },
          "metadata": {}
        }
      ]
    },
    {
      "cell_type": "markdown",
      "source": [
        "### Hidden layers"
      ],
      "metadata": {
        "id": "YTSqaZeGex97"
      }
    },
    {
      "cell_type": "code",
      "source": [
        "hidden_units = [64, 128, 256]\n",
        "arch_losses = []\n",
        "for units in hidden_units:\n",
        "    train_dl = DataLoader(train_ds, 32, shuffle=True)\n",
        "\n",
        "    model =  SimpleNN(scaled_X_train.shape[1], units, 3)\n",
        "    criterion = torch.nn.CrossEntropyLoss()\n",
        "    optimizer = torch.optim.SGD(model.parameters(), lr=0.01)\n",
        "    losses = train_batch(model, criterion, optimizer, train_dl, num_epochs=100)\n",
        "\n",
        "    arch_losses.append(losses)\n",
        "    print(f\"Hidden Units: {units}, Loss: {losses}\")"
      ],
      "metadata": {
        "colab": {
          "base_uri": "https://localhost:8080/"
        },
        "id": "K081qU8Me3je",
        "outputId": "306e6cfe-1223-4236-c5a9-8fd85fb5bb94"
      },
      "execution_count": null,
      "outputs": [
        {
          "output_type": "stream",
          "name": "stdout",
          "text": [
            "Epoch: 1/100, Loss: 1.0472\n",
            "Epoch: 2/100, Loss: 1.0369\n",
            "Epoch: 3/100, Loss: 1.0349\n",
            "Epoch: 4/100, Loss: 1.0225\n",
            "Epoch: 5/100, Loss: 1.0185\n",
            "Epoch: 6/100, Loss: 1.0124\n",
            "Epoch: 7/100, Loss: 0.9984\n",
            "Epoch: 8/100, Loss: 0.9968\n",
            "Epoch: 9/100, Loss: 0.9901\n",
            "Epoch: 10/100, Loss: 0.9857\n",
            "Epoch: 11/100, Loss: 0.9691\n",
            "Epoch: 12/100, Loss: 0.9752\n",
            "Epoch: 13/100, Loss: 0.9642\n",
            "Epoch: 14/100, Loss: 0.9626\n",
            "Epoch: 15/100, Loss: 0.9581\n",
            "Epoch: 16/100, Loss: 0.9447\n",
            "Epoch: 17/100, Loss: 0.9405\n",
            "Epoch: 18/100, Loss: 0.9416\n",
            "Epoch: 19/100, Loss: 0.9388\n",
            "Epoch: 20/100, Loss: 0.9293\n",
            "Epoch: 21/100, Loss: 0.9251\n",
            "Epoch: 22/100, Loss: 0.9272\n",
            "Epoch: 23/100, Loss: 0.9236\n",
            "Epoch: 24/100, Loss: 0.9195\n",
            "Epoch: 25/100, Loss: 0.9102\n",
            "Epoch: 26/100, Loss: 0.9118\n",
            "Epoch: 27/100, Loss: 0.9079\n",
            "Epoch: 28/100, Loss: 0.8976\n",
            "Epoch: 29/100, Loss: 0.8940\n",
            "Epoch: 30/100, Loss: 0.8891\n",
            "Epoch: 31/100, Loss: 0.8900\n",
            "Epoch: 32/100, Loss: 0.8905\n",
            "Epoch: 33/100, Loss: 0.8977\n",
            "Epoch: 34/100, Loss: 0.8886\n",
            "Epoch: 35/100, Loss: 0.8857\n",
            "Epoch: 36/100, Loss: 0.8853\n",
            "Epoch: 37/100, Loss: 0.8870\n",
            "Epoch: 38/100, Loss: 0.8741\n",
            "Epoch: 39/100, Loss: 0.8791\n",
            "Epoch: 40/100, Loss: 0.8744\n",
            "Epoch: 41/100, Loss: 0.8594\n",
            "Epoch: 42/100, Loss: 0.8717\n",
            "Epoch: 43/100, Loss: 0.8699\n",
            "Epoch: 44/100, Loss: 0.8681\n",
            "Epoch: 45/100, Loss: 0.8683\n",
            "Epoch: 46/100, Loss: 0.8680\n",
            "Epoch: 47/100, Loss: 0.8646\n",
            "Epoch: 48/100, Loss: 0.8431\n",
            "Epoch: 49/100, Loss: 0.8476\n",
            "Epoch: 50/100, Loss: 0.8620\n",
            "Epoch: 51/100, Loss: 0.8578\n",
            "Epoch: 52/100, Loss: 0.8515\n",
            "Epoch: 53/100, Loss: 0.8353\n",
            "Epoch: 54/100, Loss: 0.8527\n",
            "Epoch: 55/100, Loss: 0.8451\n",
            "Epoch: 56/100, Loss: 0.8448\n",
            "Epoch: 57/100, Loss: 0.8334\n",
            "Epoch: 58/100, Loss: 0.8435\n",
            "Epoch: 59/100, Loss: 0.8384\n",
            "Epoch: 60/100, Loss: 0.8377\n",
            "Epoch: 61/100, Loss: 0.8380\n",
            "Epoch: 62/100, Loss: 0.8260\n",
            "Epoch: 63/100, Loss: 0.8264\n",
            "Epoch: 64/100, Loss: 0.8349\n",
            "Epoch: 65/100, Loss: 0.8423\n",
            "Epoch: 66/100, Loss: 0.8349\n",
            "Epoch: 67/100, Loss: 0.8316\n",
            "Epoch: 68/100, Loss: 0.8257\n",
            "Epoch: 69/100, Loss: 0.8118\n",
            "Epoch: 70/100, Loss: 0.8215\n",
            "Epoch: 71/100, Loss: 0.8086\n",
            "Epoch: 72/100, Loss: 0.8255\n",
            "Epoch: 73/100, Loss: 0.8242\n",
            "Epoch: 74/100, Loss: 0.8153\n",
            "Epoch: 75/100, Loss: 0.8094\n",
            "Epoch: 76/100, Loss: 0.8025\n",
            "Epoch: 77/100, Loss: 0.8154\n",
            "Epoch: 78/100, Loss: 0.8138\n",
            "Epoch: 79/100, Loss: 0.8109\n",
            "Epoch: 80/100, Loss: 0.8079\n",
            "Epoch: 81/100, Loss: 0.8148\n",
            "Epoch: 82/100, Loss: 0.8095\n",
            "Epoch: 83/100, Loss: 0.8098\n",
            "Epoch: 84/100, Loss: 0.7991\n",
            "Epoch: 85/100, Loss: 0.8026\n",
            "Epoch: 86/100, Loss: 0.8052\n",
            "Epoch: 87/100, Loss: 0.8087\n",
            "Epoch: 88/100, Loss: 0.8009\n",
            "Epoch: 89/100, Loss: 0.8108\n",
            "Epoch: 90/100, Loss: 0.8065\n",
            "Epoch: 91/100, Loss: 0.8006\n",
            "Epoch: 92/100, Loss: 0.7972\n",
            "Epoch: 93/100, Loss: 0.7960\n",
            "Epoch: 94/100, Loss: 0.8030\n",
            "Epoch: 95/100, Loss: 0.8030\n",
            "Epoch: 96/100, Loss: 0.7965\n",
            "Epoch: 97/100, Loss: 0.7933\n",
            "Epoch: 98/100, Loss: 0.7886\n",
            "Epoch: 99/100, Loss: 0.7949\n",
            "Epoch: 100/100, Loss: 0.7907\n",
            "Hidden Units: 64, Loss: [1.047245979309082, 1.0369381308555603, 1.0348854660987854, 1.0225369036197662, 1.0184546113014221, 1.0124278962612152, 0.9983600676059723, 0.9967719316482544, 0.9900721460580826, 0.9857001155614853, 0.9691077768802643, 0.975213885307312, 0.9641703218221664, 0.9626173973083496, 0.9581143110990524, 0.9446564316749573, 0.9405451118946075, 0.9416418075561523, 0.9387771785259247, 0.9293005764484406, 0.925112172961235, 0.9272376447916031, 0.9236435294151306, 0.9195238649845123, 0.9101935476064682, 0.9118455052375793, 0.907884880900383, 0.8976180106401443, 0.8940040171146393, 0.8890516012907028, 0.8899775296449661, 0.8904983401298523, 0.8977288603782654, 0.8886086046695709, 0.8857383579015732, 0.8853337466716766, 0.8870278149843216, 0.8741296976804733, 0.8790608048439026, 0.8744345456361771, 0.8594400733709335, 0.8716920763254166, 0.8698954880237579, 0.8681473135948181, 0.8682744055986404, 0.8680162727832794, 0.864589273929596, 0.8430939316749573, 0.8476269841194153, 0.8620044589042664, 0.8577604740858078, 0.8515153676271439, 0.8352611213922501, 0.8526749759912491, 0.8450993895530701, 0.8447963148355484, 0.8333855420351028, 0.8435407131910324, 0.8384308069944382, 0.8377294987440109, 0.8379664719104767, 0.8259969651699066, 0.8264034241437912, 0.8349370211362839, 0.8423375934362411, 0.8348667472600937, 0.8316201418638229, 0.8256704956293106, 0.8118308484554291, 0.8214798122644424, 0.8085791915655136, 0.8255151510238647, 0.8242058157920837, 0.8152567148208618, 0.8093935400247574, 0.802500307559967, 0.815383568406105, 0.8137658685445786, 0.8108604103326797, 0.8079082071781158, 0.8147551864385605, 0.8094735890626907, 0.8097648173570633, 0.7991068512201309, 0.8026203513145447, 0.8051725178956985, 0.8086513131856918, 0.8009030669927597, 0.8107830733060837, 0.8064908981323242, 0.8006013929843903, 0.797157347202301, 0.7959762960672379, 0.8029817789793015, 0.8030340522527695, 0.7964692115783691, 0.7933186739683151, 0.7885593622922897, 0.7948907017707825, 0.7906965911388397]\n",
            "Epoch: 1/100, Loss: 1.0094\n",
            "Epoch: 2/100, Loss: 0.9976\n",
            "Epoch: 3/100, Loss: 0.9816\n",
            "Epoch: 4/100, Loss: 0.9662\n",
            "Epoch: 5/100, Loss: 0.9632\n",
            "Epoch: 6/100, Loss: 0.9471\n",
            "Epoch: 7/100, Loss: 0.9310\n",
            "Epoch: 8/100, Loss: 0.9323\n",
            "Epoch: 9/100, Loss: 0.9217\n",
            "Epoch: 10/100, Loss: 0.9100\n",
            "Epoch: 11/100, Loss: 0.9076\n",
            "Epoch: 12/100, Loss: 0.8964\n",
            "Epoch: 13/100, Loss: 0.8967\n",
            "Epoch: 14/100, Loss: 0.8916\n",
            "Epoch: 15/100, Loss: 0.8745\n",
            "Epoch: 16/100, Loss: 0.8708\n",
            "Epoch: 17/100, Loss: 0.8694\n",
            "Epoch: 18/100, Loss: 0.8744\n",
            "Epoch: 19/100, Loss: 0.8635\n",
            "Epoch: 20/100, Loss: 0.8706\n",
            "Epoch: 21/100, Loss: 0.8683\n",
            "Epoch: 22/100, Loss: 0.8607\n",
            "Epoch: 23/100, Loss: 0.8503\n",
            "Epoch: 24/100, Loss: 0.8407\n",
            "Epoch: 25/100, Loss: 0.8499\n",
            "Epoch: 26/100, Loss: 0.8419\n",
            "Epoch: 27/100, Loss: 0.8358\n",
            "Epoch: 28/100, Loss: 0.8425\n",
            "Epoch: 29/100, Loss: 0.8318\n",
            "Epoch: 30/100, Loss: 0.8311\n",
            "Epoch: 31/100, Loss: 0.8322\n",
            "Epoch: 32/100, Loss: 0.8234\n",
            "Epoch: 33/100, Loss: 0.8144\n",
            "Epoch: 34/100, Loss: 0.8153\n",
            "Epoch: 35/100, Loss: 0.8152\n",
            "Epoch: 36/100, Loss: 0.8050\n",
            "Epoch: 37/100, Loss: 0.8174\n",
            "Epoch: 38/100, Loss: 0.8187\n",
            "Epoch: 39/100, Loss: 0.8073\n",
            "Epoch: 40/100, Loss: 0.8081\n",
            "Epoch: 41/100, Loss: 0.8115\n",
            "Epoch: 42/100, Loss: 0.8036\n",
            "Epoch: 43/100, Loss: 0.8017\n",
            "Epoch: 44/100, Loss: 0.8065\n",
            "Epoch: 45/100, Loss: 0.8053\n",
            "Epoch: 46/100, Loss: 0.8026\n",
            "Epoch: 47/100, Loss: 0.8018\n",
            "Epoch: 48/100, Loss: 0.8034\n",
            "Epoch: 49/100, Loss: 0.7885\n",
            "Epoch: 50/100, Loss: 0.7883\n",
            "Epoch: 51/100, Loss: 0.8035\n",
            "Epoch: 52/100, Loss: 0.7995\n",
            "Epoch: 53/100, Loss: 0.7879\n",
            "Epoch: 54/100, Loss: 0.7869\n",
            "Epoch: 55/100, Loss: 0.7873\n",
            "Epoch: 56/100, Loss: 0.7789\n",
            "Epoch: 57/100, Loss: 0.7792\n",
            "Epoch: 58/100, Loss: 0.7878\n",
            "Epoch: 59/100, Loss: 0.7758\n",
            "Epoch: 60/100, Loss: 0.7774\n",
            "Epoch: 61/100, Loss: 0.7837\n",
            "Epoch: 62/100, Loss: 0.7781\n",
            "Epoch: 63/100, Loss: 0.7719\n",
            "Epoch: 64/100, Loss: 0.7775\n",
            "Epoch: 65/100, Loss: 0.7814\n",
            "Epoch: 66/100, Loss: 0.7702\n",
            "Epoch: 67/100, Loss: 0.7679\n",
            "Epoch: 68/100, Loss: 0.7839\n",
            "Epoch: 69/100, Loss: 0.7723\n",
            "Epoch: 70/100, Loss: 0.7741\n",
            "Epoch: 71/100, Loss: 0.7653\n",
            "Epoch: 72/100, Loss: 0.7720\n",
            "Epoch: 73/100, Loss: 0.7690\n",
            "Epoch: 74/100, Loss: 0.7650\n",
            "Epoch: 75/100, Loss: 0.7683\n",
            "Epoch: 76/100, Loss: 0.7718\n",
            "Epoch: 77/100, Loss: 0.7665\n",
            "Epoch: 78/100, Loss: 0.7484\n",
            "Epoch: 79/100, Loss: 0.7625\n",
            "Epoch: 80/100, Loss: 0.7556\n",
            "Epoch: 81/100, Loss: 0.7722\n",
            "Epoch: 82/100, Loss: 0.7527\n",
            "Epoch: 83/100, Loss: 0.7636\n",
            "Epoch: 84/100, Loss: 0.7628\n",
            "Epoch: 85/100, Loss: 0.7544\n",
            "Epoch: 86/100, Loss: 0.7504\n",
            "Epoch: 87/100, Loss: 0.7622\n",
            "Epoch: 88/100, Loss: 0.7515\n",
            "Epoch: 89/100, Loss: 0.7581\n",
            "Epoch: 90/100, Loss: 0.7615\n",
            "Epoch: 91/100, Loss: 0.7454\n",
            "Epoch: 92/100, Loss: 0.7471\n",
            "Epoch: 93/100, Loss: 0.7454\n",
            "Epoch: 94/100, Loss: 0.7484\n",
            "Epoch: 95/100, Loss: 0.7508\n",
            "Epoch: 96/100, Loss: 0.7493\n",
            "Epoch: 97/100, Loss: 0.7498\n",
            "Epoch: 98/100, Loss: 0.7480\n",
            "Epoch: 99/100, Loss: 0.7563\n",
            "Epoch: 100/100, Loss: 0.7426\n",
            "Hidden Units: 128, Loss: [1.0094358772039413, 0.9975526183843613, 0.9816167652606964, 0.9662277847528458, 0.9631758779287338, 0.9471209645271301, 0.931016132235527, 0.9322991669178009, 0.9216669499874115, 0.9099973142147064, 0.9076436460018158, 0.8963552713394165, 0.8966911137104034, 0.8915787637233734, 0.8745455890893936, 0.8708443492650986, 0.8693618178367615, 0.8743607401847839, 0.8634728491306305, 0.8705998957157135, 0.8683429211378098, 0.860716387629509, 0.8502673804759979, 0.8406869918107986, 0.8498739898204803, 0.8418685495853424, 0.8358379900455475, 0.8424709588289261, 0.8317830860614777, 0.8311392962932587, 0.8322144150733948, 0.8233699798583984, 0.8144474923610687, 0.8152797073125839, 0.8152255862951279, 0.804978221654892, 0.8174480348825455, 0.8187023252248764, 0.807292178273201, 0.8080882728099823, 0.8115149140357971, 0.8035584390163422, 0.8016889989376068, 0.8064598441123962, 0.8052926659584045, 0.8026371598243713, 0.801801323890686, 0.8033968955278397, 0.788460299372673, 0.7882680147886276, 0.8034586012363434, 0.7994905561208725, 0.7879207879304886, 0.7869287580251694, 0.7873114794492722, 0.7789031267166138, 0.7792300879955292, 0.7877537161111832, 0.7758074849843979, 0.7773607224225998, 0.783706322312355, 0.7781485766172409, 0.7719331681728363, 0.777457594871521, 0.7813868820667267, 0.7701558619737625, 0.7678930759429932, 0.7838525176048279, 0.7722663134336472, 0.7741093933582306, 0.7653467655181885, 0.7720160633325577, 0.7690200805664062, 0.764987051486969, 0.7682724297046661, 0.7718089073896408, 0.7664899230003357, 0.7484332472085953, 0.7625013887882233, 0.7555743604898453, 0.7722290605306625, 0.7527376860380173, 0.7635518908500671, 0.7627932578325272, 0.7543660402297974, 0.7503645122051239, 0.7621891498565674, 0.751520186662674, 0.7581074833869934, 0.7615122199058533, 0.7453886717557907, 0.7471058666706085, 0.7453804165124893, 0.7483659535646439, 0.7508179843425751, 0.749321848154068, 0.7498268336057663, 0.7479734122753143, 0.7563489973545074, 0.7426050156354904]\n",
            "Epoch: 1/100, Loss: 1.1520\n",
            "Epoch: 2/100, Loss: 1.1344\n",
            "Epoch: 3/100, Loss: 1.1161\n",
            "Epoch: 4/100, Loss: 1.0890\n",
            "Epoch: 5/100, Loss: 1.0598\n",
            "Epoch: 6/100, Loss: 1.0386\n",
            "Epoch: 7/100, Loss: 1.0089\n",
            "Epoch: 8/100, Loss: 0.9852\n",
            "Epoch: 9/100, Loss: 0.9657\n",
            "Epoch: 10/100, Loss: 0.9323\n",
            "Epoch: 11/100, Loss: 0.9216\n",
            "Epoch: 12/100, Loss: 0.9023\n",
            "Epoch: 13/100, Loss: 0.8828\n",
            "Epoch: 14/100, Loss: 0.8680\n",
            "Epoch: 15/100, Loss: 0.8633\n",
            "Epoch: 16/100, Loss: 0.8499\n",
            "Epoch: 17/100, Loss: 0.8324\n",
            "Epoch: 18/100, Loss: 0.8249\n",
            "Epoch: 19/100, Loss: 0.8323\n",
            "Epoch: 20/100, Loss: 0.8189\n",
            "Epoch: 21/100, Loss: 0.8151\n",
            "Epoch: 22/100, Loss: 0.8195\n",
            "Epoch: 23/100, Loss: 0.8076\n",
            "Epoch: 24/100, Loss: 0.8046\n",
            "Epoch: 25/100, Loss: 0.7877\n",
            "Epoch: 26/100, Loss: 0.7857\n",
            "Epoch: 27/100, Loss: 0.7917\n",
            "Epoch: 28/100, Loss: 0.7857\n",
            "Epoch: 29/100, Loss: 0.7855\n",
            "Epoch: 30/100, Loss: 0.7873\n",
            "Epoch: 31/100, Loss: 0.7850\n",
            "Epoch: 32/100, Loss: 0.7836\n",
            "Epoch: 33/100, Loss: 0.7833\n",
            "Epoch: 34/100, Loss: 0.7865\n",
            "Epoch: 35/100, Loss: 0.7644\n",
            "Epoch: 36/100, Loss: 0.7737\n",
            "Epoch: 37/100, Loss: 0.7664\n",
            "Epoch: 38/100, Loss: 0.7543\n",
            "Epoch: 39/100, Loss: 0.7575\n",
            "Epoch: 40/100, Loss: 0.7686\n",
            "Epoch: 41/100, Loss: 0.7541\n",
            "Epoch: 42/100, Loss: 0.7597\n",
            "Epoch: 43/100, Loss: 0.7546\n",
            "Epoch: 44/100, Loss: 0.7582\n",
            "Epoch: 45/100, Loss: 0.7577\n",
            "Epoch: 46/100, Loss: 0.7582\n",
            "Epoch: 47/100, Loss: 0.7532\n",
            "Epoch: 48/100, Loss: 0.7487\n",
            "Epoch: 49/100, Loss: 0.7536\n",
            "Epoch: 50/100, Loss: 0.7425\n",
            "Epoch: 51/100, Loss: 0.7421\n",
            "Epoch: 52/100, Loss: 0.7429\n",
            "Epoch: 53/100, Loss: 0.7390\n",
            "Epoch: 54/100, Loss: 0.7326\n",
            "Epoch: 55/100, Loss: 0.7385\n",
            "Epoch: 56/100, Loss: 0.7414\n",
            "Epoch: 57/100, Loss: 0.7418\n",
            "Epoch: 58/100, Loss: 0.7358\n",
            "Epoch: 59/100, Loss: 0.7386\n",
            "Epoch: 60/100, Loss: 0.7291\n",
            "Epoch: 61/100, Loss: 0.7275\n",
            "Epoch: 62/100, Loss: 0.7276\n",
            "Epoch: 63/100, Loss: 0.7275\n",
            "Epoch: 64/100, Loss: 0.7360\n",
            "Epoch: 65/100, Loss: 0.7250\n",
            "Epoch: 66/100, Loss: 0.7295\n",
            "Epoch: 67/100, Loss: 0.7335\n",
            "Epoch: 68/100, Loss: 0.7263\n",
            "Epoch: 69/100, Loss: 0.7249\n",
            "Epoch: 70/100, Loss: 0.7300\n",
            "Epoch: 71/100, Loss: 0.7183\n",
            "Epoch: 72/100, Loss: 0.7204\n",
            "Epoch: 73/100, Loss: 0.7181\n",
            "Epoch: 74/100, Loss: 0.7222\n",
            "Epoch: 75/100, Loss: 0.7147\n",
            "Epoch: 76/100, Loss: 0.7196\n",
            "Epoch: 77/100, Loss: 0.7181\n",
            "Epoch: 78/100, Loss: 0.7159\n",
            "Epoch: 79/100, Loss: 0.7082\n",
            "Epoch: 80/100, Loss: 0.7122\n",
            "Epoch: 81/100, Loss: 0.7058\n",
            "Epoch: 82/100, Loss: 0.7110\n",
            "Epoch: 83/100, Loss: 0.7206\n",
            "Epoch: 84/100, Loss: 0.7131\n",
            "Epoch: 85/100, Loss: 0.7114\n",
            "Epoch: 86/100, Loss: 0.7055\n",
            "Epoch: 87/100, Loss: 0.7099\n",
            "Epoch: 88/100, Loss: 0.7076\n",
            "Epoch: 89/100, Loss: 0.7052\n",
            "Epoch: 90/100, Loss: 0.7071\n",
            "Epoch: 91/100, Loss: 0.7076\n",
            "Epoch: 92/100, Loss: 0.7033\n",
            "Epoch: 93/100, Loss: 0.7030\n",
            "Epoch: 94/100, Loss: 0.7008\n",
            "Epoch: 95/100, Loss: 0.7039\n",
            "Epoch: 96/100, Loss: 0.7079\n",
            "Epoch: 97/100, Loss: 0.7032\n",
            "Epoch: 98/100, Loss: 0.7027\n",
            "Epoch: 99/100, Loss: 0.7083\n",
            "Epoch: 100/100, Loss: 0.6949\n",
            "Hidden Units: 256, Loss: [1.1519788801670074, 1.1344223320484161, 1.116096943616867, 1.0889948308467865, 1.059835135936737, 1.0386022925376892, 1.008901059627533, 0.9851516634225845, 0.9656531065702438, 0.9323195815086365, 0.921631783246994, 0.9022623002529144, 0.8827664256095886, 0.8680310547351837, 0.8633369207382202, 0.8498641103506088, 0.8324088156223297, 0.824859157204628, 0.8323152214288712, 0.8188925236463547, 0.815147802233696, 0.8195094466209412, 0.8075586706399918, 0.8045949190855026, 0.787663146853447, 0.7857069373130798, 0.7917448133230209, 0.7857313603162766, 0.785503551363945, 0.787328228354454, 0.785006046295166, 0.7836262881755829, 0.7833324670791626, 0.786525085568428, 0.764419361948967, 0.773675799369812, 0.7664283365011215, 0.7543406039476395, 0.7575087249279022, 0.768624871969223, 0.7541320472955704, 0.7596832066774368, 0.7545656859874725, 0.7581779360771179, 0.7576892226934433, 0.7581915259361267, 0.7532490342855453, 0.7486692368984222, 0.7536067217588425, 0.742512434720993, 0.7420567125082016, 0.7429187148809433, 0.7390336990356445, 0.7325806468725204, 0.7384618669748306, 0.741390660405159, 0.7417817711830139, 0.735848143696785, 0.7386381328105927, 0.7290800213813782, 0.7275006324052811, 0.727585569024086, 0.7274861484766006, 0.73600934445858, 0.7250159531831741, 0.7295419573783875, 0.7335001528263092, 0.7262831181287766, 0.7248547673225403, 0.7299659252166748, 0.7183398753404617, 0.7204463481903076, 0.7180763334035873, 0.7222003042697906, 0.7146563231945038, 0.7196426242589951, 0.7180777937173843, 0.7159301936626434, 0.7082295566797256, 0.7121722996234894, 0.7057970464229584, 0.7109958678483963, 0.7206452041864395, 0.7130542546510696, 0.7114178985357285, 0.7055049538612366, 0.709868848323822, 0.7075747847557068, 0.7052327990531921, 0.7070655226707458, 0.7076459228992462, 0.7033350020647049, 0.702976644039154, 0.7008180320262909, 0.7039078623056412, 0.707937940955162, 0.7031654566526413, 0.7026644498109818, 0.7083129584789276, 0.6949034631252289]\n"
          ]
        }
      ]
    },
    {
      "cell_type": "code",
      "source": [
        "plot_converge(hidden_units, arch_losses, \"Hidden units\")"
      ],
      "metadata": {
        "colab": {
          "base_uri": "https://localhost:8080/",
          "height": 472
        },
        "id": "MlPOc2_wfCfM",
        "outputId": "f7116ee3-8e30-49f1-aad2-e2068ee29e84"
      },
      "execution_count": null,
      "outputs": [
        {
          "output_type": "display_data",
          "data": {
            "text/plain": [
              "<Figure size 640x480 with 1 Axes>"
            ],
            "image/png": "[encoded data removed]"
          },
          "metadata": {}
        }
      ]
    },
    {
      "cell_type": "markdown",
      "source": [
        "# Analyze the efficiency and numerical stability of Autograd-based gradient computations."
      ],
      "metadata": {
        "id": "Az9isNnBheLN"
      }
    },
    {
      "cell_type": "code",
      "source": [
        "import torch\n",
        "from torch.autograd import Variable\n",
        "import time"
      ],
      "metadata": {
        "id": "AIX2snRqvhYi"
      },
      "execution_count": null,
      "outputs": []
    },
    {
      "cell_type": "code",
      "source": [
        "# Define a simple function\n",
        "def func(x):\n",
        "    return torch.exp(x) / (torch.exp(x) + 1)"
      ],
      "metadata": {
        "id": "SchN_V0sviHE"
      },
      "execution_count": null,
      "outputs": []
    },
    {
      "cell_type": "code",
      "source": [
        "# Finite difference gradient computation\n",
        "def finite_diff_grad(x):\n",
        "    epsilon = 1e-6\n",
        "    grad = (func(x + epsilon) - func(x)) / epsilon\n",
        "    return grad"
      ],
      "metadata": {
        "id": "g0vIZEFAvkiL"
      },
      "execution_count": null,
      "outputs": []
    },
    {
      "cell_type": "code",
      "source": [
        "# Autograd gradient computation\n",
        "def autograd_grad(x):\n",
        "    x = Variable(x, requires_grad=True)\n",
        "    y = func(x)\n",
        "    y.backward(torch.ones_like(x))  # Specify gradients explicitly for multidimensional input\n",
        "    return x.grad"
      ],
      "metadata": {
        "id": "XqBRqAf1v0Fg"
      },
      "execution_count": null,
      "outputs": []
    },
    {
      "cell_type": "code",
      "source": [
        "# Generate random input data\n",
        "x = torch.randn(5, requires_grad=True)"
      ],
      "metadata": {
        "id": "1WdhEC0rv2VE"
      },
      "execution_count": null,
      "outputs": []
    },
    {
      "cell_type": "code",
      "source": [
        "# Compute gradients using finitite differentiation\n",
        "start_time = time.time()\n",
        "finite_diff_gradient = finite_diff_grad(x)\n",
        "finite_diff_time = time.time() - start_time"
      ],
      "metadata": {
        "id": "NVkkQuVpv9YB"
      },
      "execution_count": null,
      "outputs": []
    },
    {
      "cell_type": "code",
      "source": [
        "# Compute gradients using autograd\n",
        "start_time = time.time()\n",
        "autograd_gradient = autograd_grad(x)\n",
        "autograd_time = time.time() - start_time"
      ],
      "metadata": {
        "id": "HPGp-mEGwCSd"
      },
      "execution_count": null,
      "outputs": []
    },
    {
      "cell_type": "code",
      "source": [
        "# Compare gradients\n",
        "print(\"Finite Difference Gradient:\", finite_diff_gradient)\n",
        "print(\"Autograd Gradient:\", autograd_gradient)\n",
        "\n",
        "# Compare time\n",
        "print(\"Finite Difference Time:\", finite_diff_time)\n",
        "print(\"Autograd Time:\", autograd_time)"
      ],
      "metadata": {
        "colab": {
          "base_uri": "https://localhost:8080/"
        },
        "id": "YYynSNzcwOoy",
        "outputId": "39613952-e373-4cd7-b43e-2d605d33d3f3"
      },
      "execution_count": null,
      "outputs": [
        {
          "output_type": "stream",
          "name": "stdout",
          "text": [
            "Finite Difference Gradient: tensor([0.1341, 0.2384, 0.2384, 0.2086, 0.2682], grad_fn=<DivBackward0>)\n",
            "Autograd Gradient: tensor([0.1335, 0.2231, 0.2295, 0.2415, 0.2500])\n",
            "Finite Difference Time: 0.017809152603149414\n",
            "Autograd Time: 0.003920555114746094\n"
          ]
        }
      ]
    },
    {
      "cell_type": "code",
      "source": [
        "x_perturbed = x + 1e-3 * torch.randn_like(x)\n",
        "\n",
        "# Compute gradients using both methods with perturbed data\n",
        "finite_diff_gradient_perturbed = finite_diff_grad(x_perturbed)\n",
        "autograd_gradient_perturbed = autograd_grad(x_perturbed)\n",
        "\n",
        "# Measure stability using Mean Absolute Error (MAE)\n",
        "finite_diff_stability = torch.mean(torch.abs(finite_diff_gradient - finite_diff_gradient_perturbed))\n",
        "autograd_stability = torch.mean(torch.abs(autograd_gradient - autograd_gradient_perturbed))"
      ],
      "metadata": {
        "id": "i0LmOPR0ydSQ"
      },
      "execution_count": null,
      "outputs": []
    },
    {
      "cell_type": "code",
      "source": [
        "print(\"Finite Difference Gradient Stability (MAE):\", finite_diff_stability.item())\n",
        "print(\"Autograd Gradient Stability (MAE):\", autograd_stability.item())"
      ],
      "metadata": {
        "colab": {
          "base_uri": "https://localhost:8080/"
        },
        "id": "YBF38M5Fyg4T",
        "outputId": "0293752f-6901-48c7-d6de-d0f438f2f14b"
      },
      "execution_count": null,
      "outputs": [
        {
          "output_type": "stream",
          "name": "stdout",
          "text": [
            "Finite Difference Gradient Stability (MAE): 0.014901161193847656\n",
            "Autograd Gradient Stability (MAE): 4.3922664190176874e-05\n"
          ]
        }
      ]
    },
    {
      "cell_type": "code",
      "source": [
        "labels = ['Finite Difference', 'Autograd']\n",
        "stability_values = [finite_diff_stability.item(), autograd_stability.item()]\n",
        "\n",
        "fig = plt.figure(figsize=(5, 5))\n",
        "\n",
        "plt.bar(labels, stability_values, color=['red', 'green'])\n",
        "plt.yscale('log')\n",
        "plt.ylabel('Mean Absolute Error (MAE)')\n",
        "plt.title('Gradient Stability Comparison')\n",
        "plt.show()"
      ],
      "metadata": {
        "colab": {
          "base_uri": "https://localhost:8080/",
          "height": 468
        },
        "id": "waO1U8Y6zno_",
        "outputId": "82aee5d8-6a99-4bfc-b9ee-d49a40c90ab4"
      },
      "execution_count": null,
      "outputs": [
        {
          "output_type": "display_data",
          "data": {
            "text/plain": [
              "<Figure size 500x500 with 1 Axes>"
            ],
            "image/png": "[encoded data removed]"
          },
          "metadata": {}
        }
      ]
    }
  ]
}